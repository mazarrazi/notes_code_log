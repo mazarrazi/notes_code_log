{
  "nbformat": 4,
  "nbformat_minor": 0,
  "metadata": {
    "colab": {
      "provenance": [],
      "authorship_tag": "ABX9TyODTwqZhK3k+2yX9I7pV1za",
      "include_colab_link": true
    },
    "kernelspec": {
      "name": "python3",
      "display_name": "Python 3"
    },
    "language_info": {
      "name": "python"
    }
  },
  "cells": [
    {
      "cell_type": "markdown",
      "metadata": {
        "id": "view-in-github",
        "colab_type": "text"
      },
      "source": [
        "<a href=\"https://colab.research.google.com/github/mazarrazi/notes_code_log/blob/main/NumPyBasicsW3S.ipynb\" target=\"_parent\"><img src=\"https://colab.research.google.com/assets/colab-badge.svg\" alt=\"Open In Colab\"/></a>"
      ]
    },
    {
      "cell_type": "code",
      "execution_count": null,
      "metadata": {
        "id": "uAT4T4p4ITSz"
      },
      "outputs": [],
      "source": [
        "# Chapter 1 NumPy basics\n"
      ]
    },
    {
      "cell_type": "code",
      "source": [
        "# NumPy (Numerical Python) is used for working with arrays.\n",
        "# It also has functions for working in domain of linear algebra, fourier transform, and matrices.\n",
        "\n",
        "# Why use NumPy?\n",
        "#  In Python we have lists that serve the purpose of arrays, but they are slow to process.\n",
        "#  NumPy aims to provide an array object that is up to 50x faster than traditional Python lists.\n",
        "\n",
        "#  The array object in NumPy is called ndarray, it provides a lot of supporting functions that make working with ndarray very easy.\n",
        "#  Arrays are very frequently used in data science, where speed and resources are very important.\n",
        "\n",
        "# Why is NumPy Faster Than Lists?\n",
        "#  NumPy arrays are stored at one continuous place in memory unlike lists, so processes can access and manipulate them very efficiently.\n",
        "\n",
        "#  This behavior is called locality of reference in computer science.\n",
        "\n",
        "#  This is the main reason why NumPy is faster than lists. Also it is optimized to work with latest CPU architectures.\n",
        "\n",
        "\n",
        "#  While they might look similar when printed, NumPy arrays and Python lists/tuples are different in terms of their capabilities and how they behave in mathematical operations.\n",
        "\n"
      ],
      "metadata": {
        "id": "Q4B2awi2Th4p"
      },
      "execution_count": null,
      "outputs": []
    },
    {
      "cell_type": "code",
      "source": [
        "# 1 Creating Arrays\n",
        "\n",
        "# NumPy is used to work with arrays. The array object in NumPy is called ndarray.\n",
        "# We can create a NumPy ndarray object by using the array() function.\n"
      ],
      "metadata": {
        "id": "3ntbh3Z_0Mbr"
      },
      "execution_count": null,
      "outputs": []
    },
    {
      "cell_type": "code",
      "source": [
        "# 1.1 Creating a NumPy ndarray Object\n",
        "\n",
        "import numpy as np\n",
        "\n",
        "arr = np.array([1,2,3,4,5])  # List ndarray\n",
        "\n",
        "print(arr)\n",
        "\n",
        "print(type(arr))"
      ],
      "metadata": {
        "colab": {
          "base_uri": "https://localhost:8080/"
        },
        "id": "1qgvJjZP44Ub",
        "outputId": "a688b676-ba1a-41b3-a21f-4bff4a6c42cd"
      },
      "execution_count": null,
      "outputs": [
        {
          "output_type": "stream",
          "name": "stdout",
          "text": [
            "[1 2 3 4 5]\n",
            "<class 'numpy.ndarray'>\n"
          ]
        }
      ]
    },
    {
      "cell_type": "code",
      "source": [
        "arr = np.array((1,2,3,4,5))  # Tuple ndarray\n",
        "print(arr)\n",
        "print(type(arr))"
      ],
      "metadata": {
        "colab": {
          "base_uri": "https://localhost:8080/"
        },
        "id": "YOpSFiCN1RKr",
        "outputId": "4ef78497-79e1-48cd-ad1a-721d0025ddb3"
      },
      "execution_count": null,
      "outputs": [
        {
          "output_type": "stream",
          "name": "stdout",
          "text": [
            "[1 2 3 4 5]\n",
            "<class 'numpy.ndarray'>\n"
          ]
        }
      ]
    },
    {
      "cell_type": "code",
      "source": [
        "# In NumPy, whether you create an ndarray from a list or a tuple,\n",
        "# the output will be displayed with square brackets.\n",
        "# NumPy does not differentiate between lists and tuples when displaying ndarrays, and both are represented using square brackets.\n",
        "\n",
        "\n",
        "# while displaying no differences but,\n",
        "\n",
        "# A NumPy list is a mutable object, meaning that its elements can be changed after it is created.\n",
        "#  A tuple, on the other hand, is an immutable object, meaning that its elements cannot be changed after it is created.\n",
        "\n",
        "# NumPy lists are typically used to store data that needs to be modified frequently, such as a list of numbers that is being sorted or a list of strings that is being filtered.\n",
        "#  Tuples, on the other hand, are typically used to store data that does not need to be modified, such as a list of constants or a list of coordinates.\n",
        "\n",
        "# In addition to these differences in mutability, there are also some differences in how NumPy lists and tuples are stored in memory.\n",
        "# NumPy lists are stored in a contiguous block of memory, while tuples are stored in a list of pointers to the objects that they contain. This difference in storage can affect the speed with which NumPy lists and tuples can be accessed."
      ],
      "metadata": {
        "id": "vMSpp3ZT1poK"
      },
      "execution_count": null,
      "outputs": []
    },
    {
      "cell_type": "code",
      "source": [
        "# 1.2  Dimensions in Arrays\n",
        "\n",
        "#  A dimension in arrays is one level of array depth (nested arrays).\n",
        "#  nested array: are arrays that have arrays as their elements.\n",
        "\n",
        "\n",
        "# 1 -- 0d\n",
        "\n",
        "# [1, 2, 3]  -- 1d\n",
        "\n",
        "# [[1, 2, 3], [1, 2, 3]]  -- 2d\n",
        "\n",
        "# [[[1, 2, 3], [1, 2, 3]], [[1, 2, 3], [1, 2, 3]]]  -- 3d\n",
        "\n"
      ],
      "metadata": {
        "id": "6hyDvUfi3vsq"
      },
      "execution_count": null,
      "outputs": []
    },
    {
      "cell_type": "code",
      "source": [
        "# 1.2.1  0-D arrays\n",
        "\n",
        "#  0-D arrays, or Scalars, are the elements in an array. Each value in an array is a 0-D array.\n",
        "\n",
        "arr = np.array(42)\n",
        "\n",
        "print(arr)"
      ],
      "metadata": {
        "id": "9PGvhmpc7uHR",
        "colab": {
          "base_uri": "https://localhost:8080/"
        },
        "outputId": "4a42c422-5359-41ea-fd80-4024904ff8c6"
      },
      "execution_count": null,
      "outputs": [
        {
          "output_type": "stream",
          "name": "stdout",
          "text": [
            "42\n"
          ]
        }
      ]
    },
    {
      "cell_type": "code",
      "source": [
        "# 1.2.2  1-D arrays\n",
        "\n",
        "#  An array that has 0-D arrays as its elements is called uni-dimensional or 1-D array.\n",
        "\n",
        "arr = np.array([1,3,3,7])\n",
        "\n",
        "print(arr)"
      ],
      "metadata": {
        "colab": {
          "base_uri": "https://localhost:8080/"
        },
        "id": "KPePjhvOjr5p",
        "outputId": "642445d2-768e-468c-e432-e1c752384bc5"
      },
      "execution_count": null,
      "outputs": [
        {
          "output_type": "stream",
          "name": "stdout",
          "text": [
            "[1 3 3 7]\n"
          ]
        }
      ]
    },
    {
      "cell_type": "code",
      "source": [
        "# 1.2.3  2-D arrays\n",
        "\n",
        "#  An array that has 1-D arrays as its elements is called a 2-D array.\n",
        "#   These are often used to represent matrix or 2nd order tensors.\n",
        "\n",
        "#  NumPy has a whole sub module dedicated towards matrix operations called numpy.mat\n",
        "\n",
        "\n",
        "arr = np.array([[1,8,8,6], [1,8,8,6]])\n",
        "\n",
        "print(arr)"
      ],
      "metadata": {
        "colab": {
          "base_uri": "https://localhost:8080/"
        },
        "id": "EAmzCl3ckC-g",
        "outputId": "6115c03c-389b-4250-f4bb-31c27fac4f12"
      },
      "execution_count": null,
      "outputs": [
        {
          "output_type": "stream",
          "name": "stdout",
          "text": [
            "[[1 8 8 6]\n",
            " [1 8 8 6]]\n"
          ]
        }
      ]
    },
    {
      "cell_type": "code",
      "source": [
        "# 1.2.4  3-D arrays\n",
        "\n",
        "# An array that has 2-D arrays (matrices) as its elements is called 3-D array.\n",
        "#  These are often used to represent a 3rd order tensor.\n",
        "\n",
        "arr = np.array( [[[1,2,3,4],[1,2,3,4]], [[1,2,3,4],[1,2,3,4]]] )\n",
        "\n",
        "print(arr)"
      ],
      "metadata": {
        "colab": {
          "base_uri": "https://localhost:8080/"
        },
        "id": "dQEgBlhWkSmo",
        "outputId": "8fe2845a-7f6d-46ea-d01d-86e0e5019a8c"
      },
      "execution_count": null,
      "outputs": [
        {
          "output_type": "stream",
          "name": "stdout",
          "text": [
            "[[[1 2 3 4]\n",
            "  [1 2 3 4]]\n",
            "\n",
            " [[1 2 3 4]\n",
            "  [1 2 3 4]]]\n"
          ]
        }
      ]
    },
    {
      "cell_type": "code",
      "source": [
        "# 1.2.5  Checking Number of Dimensions\n",
        "\n",
        "#  NumPy Arrays provides the ndim attribute that returns an integer that tells us how many dimensions the array have.\n",
        "\n",
        "c = np.array(43)\n",
        "\n",
        "b = np.array([1,2,3])\n",
        "\n",
        "d = np.array([[1,5,5,3], [6,8,0,9]])\n",
        "\n",
        "a = np.array([[[1,2,3],[3,4,5]], [[5,6,7],[7,8,9]]])\n",
        "\n",
        "print(a.ndim)  # ndim is an attribute\n",
        "print(b.ndim)\n",
        "print(c.ndim)\n",
        "print(d.ndim)"
      ],
      "metadata": {
        "colab": {
          "base_uri": "https://localhost:8080/"
        },
        "id": "dMIqXW2flJNw",
        "outputId": "9cbd75ef-6c08-49ed-f722-822c5201592d"
      },
      "execution_count": null,
      "outputs": [
        {
          "output_type": "stream",
          "name": "stdout",
          "text": [
            "3\n",
            "1\n",
            "0\n",
            "2\n"
          ]
        }
      ]
    },
    {
      "cell_type": "code",
      "source": [
        "# 1.2.6  Higher Dimensional Arrays\n",
        "\n",
        "# An array can have any number of dimensions.\n",
        "# When the array is created, you can define the number of dimensions by using the ndmin argument.\n",
        "\n",
        "arr = np.array([1,5,6,9], ndmin = 5)  # note its ndmin not ndim\n",
        "\n",
        "print(arr)\n",
        "print()\n",
        "\n",
        "print(arr.ndim)"
      ],
      "metadata": {
        "colab": {
          "base_uri": "https://localhost:8080/"
        },
        "id": "-X3XYTHSm6BA",
        "outputId": "e8061b85-ace0-4b02-a1ae-6b94710cbb83"
      },
      "execution_count": null,
      "outputs": [
        {
          "output_type": "stream",
          "name": "stdout",
          "text": [
            "[[[[[1 5 6 9]]]]]\n",
            "\n",
            "5\n"
          ]
        }
      ]
    },
    {
      "cell_type": "code",
      "source": [
        "# In this array the innermost dimension (5th dim) has 4 elements,\n",
        "#  the 4th dim has 1 element that is the vector,\n",
        "#  the 3rd dim has 1 element that is the matrix with the vector,\n",
        "#  the 2nd dim has 1 element that is 3D array and\n",
        "#  the 1st dim has 1 element that is a 4D array.\n",
        "\n",
        "\n",
        "# Another way to explain the same,\n",
        "\n",
        "# The outermost dimension (1st dim) is represented by a single pair of square brackets [ ].\n",
        "\n",
        "# The 2nd dimension (2nd dim) contains a 3D array. This is represented by an extra pair of square brackets, [[ ]], added to the outermost dimension. So, we now have [[ ]].\n",
        "\n",
        "# The 3rd dimension (3rd dim) contains a matrix (2D array) that has a vector (1D array) inside it. We add another pair of square brackets for the matrix, resulting in [[[ ]]].\n",
        "\n",
        "# The 4th dimension (4th dim) contains a 3D array, which means we add another pair of square brackets to enclose it within the 3rd dimension: [[[[ ]]]].\n",
        "\n",
        "# Finally, the innermost dimension (5th dim) contains a vector with elements [1, 5, 6, 9]. We add one more pair of square brackets to enclose it within the 4th dimension: [[[[[1 5 6 9]]]]].\n",
        "\n",
        "\n",
        "# a breakdown of the dimensions:\n",
        "\n",
        "# 1st dimension (outermost): 4D array.\n",
        "# 2nd dimension: 3D array.\n",
        "# 3rd dimension: Matrix (2D array) with a vector (1D array) inside.\n",
        "# 4th dimension: 3D array.\n",
        "# 5th dimension (innermost): Vector (1D array) with elements [1, 5, 6, 9].\n",
        "# This can be a bit abstract to visualize, but it demonstrates how NumPy allows you to create multi-dimensional arrays of various shapes and sizes.\n"
      ],
      "metadata": {
        "id": "OXuY-j1erC0U"
      },
      "execution_count": null,
      "outputs": []
    },
    {
      "cell_type": "code",
      "source": [
        "\n"
      ],
      "metadata": {
        "id": "ouocJnDGsWF8"
      },
      "execution_count": null,
      "outputs": []
    },
    {
      "cell_type": "code",
      "source": [
        "# 2  Array Indexing\n",
        "\n",
        "# As usual array elements can be accessed by referring to its index number. Index starts with 0\n"
      ],
      "metadata": {
        "id": "f0YSVNPMi1UU"
      },
      "execution_count": null,
      "outputs": []
    },
    {
      "cell_type": "code",
      "source": [
        "# 2.1  Accessing Array Elements\n",
        "\n",
        "arr = np.array([1,2,3,4,5])\n",
        "\n",
        "print(arr[0])\n",
        "print()\n",
        "\n",
        "print(arr[2])"
      ],
      "metadata": {
        "colab": {
          "base_uri": "https://localhost:8080/"
        },
        "id": "3Y3wBA4xjb-M",
        "outputId": "6b95ded6-df4d-4711-ce81-78ea1536867a"
      },
      "execution_count": null,
      "outputs": [
        {
          "output_type": "stream",
          "name": "stdout",
          "text": [
            "1\n",
            "\n",
            "3\n"
          ]
        }
      ]
    },
    {
      "cell_type": "code",
      "source": [
        "# 2.2  Accessing array elements and Adding them\n",
        "\n",
        "arr = np.array([1,2,3,4,5,6])\n",
        "\n",
        "print(arr[3] + arr[5])"
      ],
      "metadata": {
        "colab": {
          "base_uri": "https://localhost:8080/"
        },
        "id": "7WUIE9VXjvSz",
        "outputId": "1b32eef1-f748-4a5e-d273-7abfaee3d74d"
      },
      "execution_count": null,
      "outputs": [
        {
          "output_type": "stream",
          "name": "stdout",
          "text": [
            "10\n"
          ]
        }
      ]
    },
    {
      "cell_type": "code",
      "source": [
        "# 2.3  Accessing 2-D arrays\n",
        "\n",
        "arr = np.array([[1,2,3,4,5], [11,22,33,44,55]])\n",
        "\n",
        "print(arr[1,1])\n",
        "print()\n",
        "\n",
        "print(arr[0,4])"
      ],
      "metadata": {
        "colab": {
          "base_uri": "https://localhost:8080/"
        },
        "id": "eVzS7ORwkAiz",
        "outputId": "de152923-9821-4001-c566-4c1a00e2e16e"
      },
      "execution_count": null,
      "outputs": [
        {
          "output_type": "stream",
          "name": "stdout",
          "text": [
            "22\n",
            "\n",
            "5\n"
          ]
        }
      ]
    },
    {
      "cell_type": "code",
      "source": [
        "# 2.4  Accessing 3-D arrays\n",
        "\n",
        "arr = np.array([[[1,2,3,4],[5,6,7,8]], [[11,22,33,44],[55,66,77,88]]])\n",
        "\n",
        "print(arr[0,0,0])\n",
        "print(arr[0,1,0])\n",
        "\n",
        "print(arr[1,0,0])\n",
        "print(arr[1,1,0])"
      ],
      "metadata": {
        "colab": {
          "base_uri": "https://localhost:8080/"
        },
        "id": "9NfsADaAk4Cy",
        "outputId": "e08729f2-3744-4c7a-8a29-4d5e875d41d8"
      },
      "execution_count": null,
      "outputs": [
        {
          "output_type": "stream",
          "name": "stdout",
          "text": [
            "1\n",
            "5\n",
            "11\n",
            "55\n"
          ]
        }
      ]
    },
    {
      "cell_type": "code",
      "source": [
        "arr = np.array([[[1, 2, 3], [4, 5, 6]], [[7, 8, 9], [10, 11, 12]]])\n",
        "\n",
        "print(arr[0, 1, 2])"
      ],
      "metadata": {
        "colab": {
          "base_uri": "https://localhost:8080/"
        },
        "id": "-EoL0MFmsLdW",
        "outputId": "6829f721-862d-40d4-fb10-93ad62b70751"
      },
      "execution_count": null,
      "outputs": [
        {
          "output_type": "stream",
          "name": "stdout",
          "text": [
            "6\n"
          ]
        }
      ]
    },
    {
      "cell_type": "code",
      "source": [
        "# arr[0, 1, 2] prints the value 6.\n",
        "\n",
        "# And this is why:\n",
        "\n",
        "# The first number represents the first dimension, which contains two arrays:\n",
        "# [[1, 2, 3], [4, 5, 6]]\n",
        "# and:\n",
        "# [[7, 8, 9], [10, 11, 12]]\n",
        "# Since we selected 0, we are left with the first array:\n",
        "# [[1, 2, 3], [4, 5, 6]]\n",
        "\n",
        "# The second number represents the second dimension, which also contains two arrays:\n",
        "# [1, 2, 3]\n",
        "# and:\n",
        "# [4, 5, 6]\n",
        "# Since we selected 1, we are left with the second array:\n",
        "# [4, 5, 6]\n",
        "\n",
        "# The third number represents the third dimension, which contains three values:\n",
        "# 4\n",
        "# 5\n",
        "# 6\n",
        "# Since we selected 2, we end up with the third value:\n",
        "# 6"
      ],
      "metadata": {
        "id": "g6q9i8KVtMP2"
      },
      "execution_count": null,
      "outputs": []
    },
    {
      "cell_type": "code",
      "source": [
        "# 2.5  Negative Indexing\n",
        "\n",
        "arr = np.array([[1,2,3,4,5], [6,7,8,9,10]])\n",
        "\n",
        "print(arr[1, -1])\n",
        "\n",
        "print(arr[0, -5])"
      ],
      "metadata": {
        "colab": {
          "base_uri": "https://localhost:8080/"
        },
        "id": "49piCw8vtQJt",
        "outputId": "49070791-52d1-44cc-e1f1-c33da7edc92d"
      },
      "execution_count": null,
      "outputs": [
        {
          "output_type": "stream",
          "name": "stdout",
          "text": [
            "10\n",
            "1\n"
          ]
        }
      ]
    },
    {
      "cell_type": "code",
      "source": [
        "\n"
      ],
      "metadata": {
        "id": "eHlztZiMt3T2"
      },
      "execution_count": null,
      "outputs": []
    },
    {
      "cell_type": "code",
      "source": [
        "# 3  Slicing\n",
        "\n",
        "# Slicing in python means taking elements from one given index to another given index.\n",
        "\n",
        "# We pass slice instead of index like this: [start:end].\n",
        "# We can also define the step, like this: [start:end:step].\n",
        "\n",
        "# If we don't pass start its considered 0\n",
        "# If we don't pass end its considered length of array in that dimension\n",
        "# If we don't pass step its considered 1\n"
      ],
      "metadata": {
        "id": "Mnag3FnUuCa9"
      },
      "execution_count": null,
      "outputs": []
    },
    {
      "cell_type": "code",
      "source": [
        "# 3.1  with start & with stop\n",
        "\n",
        "arr = np.array([0,1,2,3,4,5,6,7])\n",
        "\n",
        "print(arr[0 : 6])\n",
        "print()\n",
        "\n",
        "print(arr[1 : 5])\n"
      ],
      "metadata": {
        "id": "uYUWKwfiuQc0",
        "colab": {
          "base_uri": "https://localhost:8080/"
        },
        "outputId": "3ed4e842-cbb1-427f-d477-4cb9a7847a0b"
      },
      "execution_count": null,
      "outputs": [
        {
          "output_type": "stream",
          "name": "stdout",
          "text": [
            "[0 1 2 3 4 5]\n",
            "\n",
            "[1 2 3 4]\n"
          ]
        }
      ]
    },
    {
      "cell_type": "code",
      "source": [
        "#  with start & without stop\n",
        "\n",
        "arr = np.array([0,1,2,3,4,5,6,7])\n",
        "\n",
        "print(arr[0 : ])\n"
      ],
      "metadata": {
        "colab": {
          "base_uri": "https://localhost:8080/"
        },
        "id": "M1Ge-npsjemv",
        "outputId": "67dd832f-be91-49b8-b364-7a1f5298d5b6"
      },
      "execution_count": null,
      "outputs": [
        {
          "output_type": "stream",
          "name": "stdout",
          "text": [
            "[0 1 2 3 4 5 6 7]\n"
          ]
        }
      ]
    },
    {
      "cell_type": "code",
      "source": [
        "#  without start & with stop\n",
        "\n",
        "arr = np.array([0,1,2,3,4,5,6,7])\n",
        "\n",
        "print(arr[ : 4])"
      ],
      "metadata": {
        "colab": {
          "base_uri": "https://localhost:8080/"
        },
        "id": "ssENTTA7kEXO",
        "outputId": "447f40a7-8493-4f0f-e8f0-445af402efd5"
      },
      "execution_count": null,
      "outputs": [
        {
          "output_type": "stream",
          "name": "stdout",
          "text": [
            "[0 1 2 3]\n"
          ]
        }
      ]
    },
    {
      "cell_type": "code",
      "source": [
        "# 3.2  Negative slicing\n",
        "\n",
        "arr = np.array([1, 2, 3, 4, 5, 6, 7])\n",
        "\n",
        "print(arr[-3 : -1])\n",
        "print()\n",
        "\n",
        "print(arr[-1 : -3])  # cannot print in reverse\n",
        "print()\n",
        "\n",
        "print(arr[-5 : -3])\n",
        "print()\n",
        "\n",
        "print(arr[-3 : -5])  # cannot print in reverse"
      ],
      "metadata": {
        "colab": {
          "base_uri": "https://localhost:8080/"
        },
        "id": "yfyC81Yu0gpd",
        "outputId": "f70b960d-9b2f-4b08-9f5e-39a15015e59f"
      },
      "execution_count": null,
      "outputs": [
        {
          "output_type": "stream",
          "name": "stdout",
          "text": [
            "[5 6]\n",
            "\n",
            "[]\n",
            "\n",
            "[3 4]\n",
            "\n",
            "[]\n"
          ]
        }
      ]
    },
    {
      "cell_type": "code",
      "source": [
        "# 3.3  Step\n",
        "\n",
        "arr = np.array([0, 1, 2, 3, 4, 5, 6, 7])\n",
        "\n",
        "print(arr[0:5:2])\n"
      ],
      "metadata": {
        "colab": {
          "base_uri": "https://localhost:8080/"
        },
        "id": "H614cpzb0yBW",
        "outputId": "cc66f866-596b-4fbb-ea31-82b14be7c39d"
      },
      "execution_count": null,
      "outputs": [
        {
          "output_type": "stream",
          "name": "stdout",
          "text": [
            "[0 2 4]\n"
          ]
        }
      ]
    },
    {
      "cell_type": "code",
      "source": [
        "#  Return every other\n",
        "\n",
        "print(arr[ : : 2])"
      ],
      "metadata": {
        "colab": {
          "base_uri": "https://localhost:8080/"
        },
        "id": "0xGLlmOD2Kwm",
        "outputId": "192c863a-e587-467d-ef47-901bf59bd0ec"
      },
      "execution_count": null,
      "outputs": [
        {
          "output_type": "stream",
          "name": "stdout",
          "text": [
            "[0 2 4 6]\n"
          ]
        }
      ]
    },
    {
      "cell_type": "code",
      "source": [
        "# 3.4  Slicing 2-D Arrays\n",
        "\n",
        "arr = np.array([[0, 1, 2, 3, 4, 5], [6, 7, 8, 9, 10, 11]])\n",
        "\n",
        "print(arr[0, 1 : 5])\n",
        "print()\n",
        "\n",
        "print(arr[1, 1 : 5])"
      ],
      "metadata": {
        "colab": {
          "base_uri": "https://localhost:8080/"
        },
        "id": "8aGkiAEa2cU9",
        "outputId": "404e4253-ea6c-46f8-e896-2ce991858a52"
      },
      "execution_count": null,
      "outputs": [
        {
          "output_type": "stream",
          "name": "stdout",
          "text": [
            "[1 2 3 4]\n",
            "\n",
            "[ 7  8  9 10]\n"
          ]
        }
      ]
    },
    {
      "cell_type": "code",
      "source": [
        "#  same but with step\n",
        "\n",
        "print(arr[0, 1 : 5 : 2])\n",
        "print()\n",
        "\n",
        "print(arr[1, 1 : 5 : 2])"
      ],
      "metadata": {
        "colab": {
          "base_uri": "https://localhost:8080/"
        },
        "id": "2quhDJmy2uAV",
        "outputId": "342b1a6f-8f6b-4dd8-9574-076ccbcff9d8"
      },
      "execution_count": null,
      "outputs": [
        {
          "output_type": "stream",
          "name": "stdout",
          "text": [
            "[1 3]\n",
            "\n",
            "[7 9]\n"
          ]
        }
      ]
    },
    {
      "cell_type": "code",
      "source": [
        "\n",
        "\n",
        "\n"
      ],
      "metadata": {
        "id": "oIrx1PwQ3L2m"
      },
      "execution_count": null,
      "outputs": []
    },
    {
      "cell_type": "code",
      "source": [
        "# 4  Data Types\n",
        "\n",
        "# Data Types in Python\n",
        "\n",
        "# By default Python have these data types:\n",
        "# strings - used to represent text data, the text is given under quote marks. e.g. \"ABCD\"\n",
        "# integer - used to represent integer numbers. e.g. -1, -2, -3\n",
        "# float - used to represent real numbers. e.g. 1.2, 42.42\n",
        "# boolean - used to represent True or False.\n",
        "# complex - used to represent complex numbers. e.g. 1.0 + 2.0j, 1.5 + 2.5j\n",
        "\n",
        "\n",
        "# Data Types in NumPy\n",
        "\n",
        "# NumPy has some extra data types, and refer to data types with one character, like i for integers, u for unsigned integers etc.\n",
        "# Below is a list of all data types in NumPy and the characters used to represent them.\n",
        "# i - integer\n",
        "# b - boolean\n",
        "# u - unsigned integer\n",
        "# f - float\n",
        "# c - complex float\n",
        "# m - timedelta\n",
        "# M - datetime\n",
        "# O - object\n",
        "# S - string\n",
        "# U - unicode string\n",
        "# V - fixed chunk of memory for other type ( void )\n",
        "\n",
        "# For i, u, f, S and U we can define size as well.\n"
      ],
      "metadata": {
        "id": "Du08I5Cq3YKt"
      },
      "execution_count": null,
      "outputs": []
    },
    {
      "cell_type": "code",
      "source": [
        "# 4.1  Checking Datatype\n",
        "\n",
        "arr = np.array([1,2,3,4,5])\n",
        "\n",
        "print(arr.dtype) # arr.dtype is an attribute\n"
      ],
      "metadata": {
        "colab": {
          "base_uri": "https://localhost:8080/"
        },
        "id": "1w-fvFE7P1Pv",
        "outputId": "38b2c3bd-abf4-439b-e6d3-3d3b582aa96f"
      },
      "execution_count": null,
      "outputs": [
        {
          "output_type": "stream",
          "name": "stdout",
          "text": [
            "int64\n"
          ]
        }
      ]
    },
    {
      "cell_type": "code",
      "source": [
        "arr = np.array(['aaa', 'bbb', 'ccc', 'ddd'])\n",
        "\n",
        "print(arr.dtype)\n",
        "\n",
        "print()\n",
        "\n",
        "arr = np.array(['aaa', 'bbb', 'ccc', 'dddd'])\n",
        "\n",
        "print(arr.dtype)\n",
        "\n",
        "print()\n",
        "\n",
        "arr = np.array(['aaa', 'bbb', 'ccccc', 'ddd'])\n",
        "\n",
        "print(arr.dtype)\n",
        "\n",
        "# the dtype attribute reflects the length of the longest string in the array, padded with extra characters if needed.\n",
        "\n",
        "# If the longest string in the array has a length of 5 characters, NumPy will ensure that all other strings in the array are padded with spaces to have a length of 5 characters as well.\n",
        "#  This padding ensures that all elements of the array have consistent dimensions,\n",
        "#   which is a common requirement when working with arrays of strings in numerical computing and data analysis.\n"
      ],
      "metadata": {
        "colab": {
          "base_uri": "https://localhost:8080/"
        },
        "id": "DdrqmRSCQu4g",
        "outputId": "34a7e232-06b1-4819-e942-408275aa4832"
      },
      "execution_count": null,
      "outputs": [
        {
          "output_type": "stream",
          "name": "stdout",
          "text": [
            "<U3\n",
            "\n",
            "<U4\n",
            "\n",
            "<U5\n"
          ]
        }
      ]
    },
    {
      "cell_type": "code",
      "source": [
        "# 4.2  Creating Arrays With a Defined Data Type\n",
        "\n",
        "#  We use the array() function to create arrays,\n",
        "#   this function can take an optional argument: dtype\n",
        "#    dtype allows us to define the expected data type of the array elements\n",
        "\n",
        "#  For i, u, f, S and U we can define size as well.\n"
      ],
      "metadata": {
        "id": "EUjO_BnwR48X"
      },
      "execution_count": null,
      "outputs": []
    },
    {
      "cell_type": "code",
      "source": [
        "arr = np.array([1, 2, 3, 4, 5], dtype = 'S') # The 'S' dtype instructs NumPy to interpret the elements of the array as strings\n",
        "\n",
        "print(arr)\n",
        "print(arr.dtype) # each string element has max length of 1 so S1\n",
        "\n",
        "print()\n",
        "\n",
        "arr = np.array([11, 22, 33, 44, 55], dtype = 'S')\n",
        "\n",
        "print(arr)\n",
        "print(arr.dtype) # each string element has max length of 2 so S2"
      ],
      "metadata": {
        "colab": {
          "base_uri": "https://localhost:8080/"
        },
        "id": "F_ZfD3guUHzI",
        "outputId": "9cc1a0e8-19ae-406a-f9b1-6c717bc10111"
      },
      "execution_count": null,
      "outputs": [
        {
          "output_type": "stream",
          "name": "stdout",
          "text": [
            "[b'1' b'2' b'3' b'4' b'5']\n",
            "|S1\n",
            "\n",
            "[b'11' b'22' b'33' b'44' b'55']\n",
            "|S2\n"
          ]
        }
      ]
    },
    {
      "cell_type": "code",
      "source": [
        "# 4.2  Creating Arrays With a Defined Data Type & Defined Size\n",
        "\n",
        "#  For i, u, f, S and U we can define size as well.\n",
        "\n",
        "arr = np.array([1, 22, 333, 4], dtype = 'i4')  #  'i4', which stands for a 4-byte (32-bit) integer\n",
        "\n",
        "print(arr)\n",
        "\n",
        "print(arr.dtype)\n",
        "\n",
        "#  even each value has less than 4 bytes they'll be printed as 4 bytes\n",
        "#   1 has 1 bytes but it'll be considered as 4 bytes"
      ],
      "metadata": {
        "colab": {
          "base_uri": "https://localhost:8080/"
        },
        "id": "VUOuqnNaUhEQ",
        "outputId": "f373ba97-86db-437e-9b07-4c1eecab663c"
      },
      "execution_count": null,
      "outputs": [
        {
          "output_type": "stream",
          "name": "stdout",
          "text": [
            "[  1  22 333   4]\n",
            "int32\n"
          ]
        }
      ]
    },
    {
      "cell_type": "code",
      "source": [
        "arr = np.array([1, 2, 3, 4], dtype='i4')\n",
        "\n",
        "print(arr)\n",
        "print(arr.dtype)"
      ],
      "metadata": {
        "colab": {
          "base_uri": "https://localhost:8080/"
        },
        "id": "Bt89H0pbX9vh",
        "outputId": "8d976c04-80ba-48f4-e273-860788c4e3c8"
      },
      "execution_count": null,
      "outputs": [
        {
          "output_type": "stream",
          "name": "stdout",
          "text": [
            "[1 2 3 4]\n",
            "int32\n"
          ]
        }
      ]
    },
    {
      "cell_type": "code",
      "source": [
        "#  What if a Value Can Not Be Converted?\n",
        "\n",
        "# arr = np.array(['a', '2', '3'], dtype = 'i') # A non integer string like 'a' can not be converted to integer (will raise an error)\n",
        "\n",
        "# print(arr)\n",
        "\n",
        "# print(arr.dtype)\n",
        "\n",
        "# ValueError: In Python ValueError is raised when the type of passed argument to a function is unexpected/incorrect."
      ],
      "metadata": {
        "id": "onVtVyiwYGP4"
      },
      "execution_count": null,
      "outputs": []
    },
    {
      "cell_type": "code",
      "source": [
        "# 4.3  Converting Data Type on Existing Arrays\n",
        "\n",
        "#  The best way to change the data type of an existing array, is to make a copy of the array with the astype() method.\n",
        "\n",
        "#   The astype() function creates a copy of the array, and allows you to specify the data type as a parameter.\n",
        "#    The data type can be specified using a string, like 'f' for float, 'i' for integer etc.\n",
        "#     or you can use the data type directly like float for float and int for integer.\n"
      ],
      "metadata": {
        "id": "0o4TJM-iaUjB"
      },
      "execution_count": null,
      "outputs": []
    },
    {
      "cell_type": "code",
      "source": [
        "# using .astype('i')\n",
        "\n",
        "arr = np.array([1.1, 2.2, 3.3])\n",
        "\n",
        "print(arr)\n",
        "print(arr.dtype)\n",
        "\n",
        "print()\n",
        "\n",
        "arr1 = arr.astype('i') # 'i' & int are same\n",
        "\n",
        "print(arr1)\n",
        "print(arr1.dtype)"
      ],
      "metadata": {
        "colab": {
          "base_uri": "https://localhost:8080/"
        },
        "id": "h6L_BBaKbHmB",
        "outputId": "06155dee-4605-410e-e5c0-f2d5ee8cfa1c"
      },
      "execution_count": null,
      "outputs": [
        {
          "output_type": "stream",
          "name": "stdout",
          "text": [
            "[1.1 2.2 3.3]\n",
            "float64\n",
            "\n",
            "[1 2 3]\n",
            "int32\n"
          ]
        }
      ]
    },
    {
      "cell_type": "code",
      "source": [
        "# using .astype(int)\n",
        "\n",
        "arr = np.array([1.1, 2.2, 3.3])\n",
        "\n",
        "print(arr)\n",
        "print(arr.dtype)\n",
        "\n",
        "print()\n",
        "\n",
        "arr1 = arr.astype(int) # 'i' & int are same\n",
        "\n",
        "print(arr1)\n",
        "print(arr1.dtype)"
      ],
      "metadata": {
        "colab": {
          "base_uri": "https://localhost:8080/"
        },
        "id": "gm-ooqB7bpFx",
        "outputId": "8b57acc1-f7ea-4cdd-9302-2a1aca2dc82a"
      },
      "execution_count": null,
      "outputs": [
        {
          "output_type": "stream",
          "name": "stdout",
          "text": [
            "[1.1 2.2 3.3]\n",
            "float64\n",
            "\n",
            "[1 2 3]\n",
            "int64\n"
          ]
        }
      ]
    },
    {
      "cell_type": "code",
      "source": [
        "# using .astype(bool)\n",
        "\n",
        "arr = np.array([2, 3, 7, 0])\n",
        "\n",
        "arr1 = arr.astype('bool')\n",
        "\n",
        "print(arr1)\n",
        "print(arr1.dtype)"
      ],
      "metadata": {
        "colab": {
          "base_uri": "https://localhost:8080/"
        },
        "id": "Buu5IWZ2b6Gp",
        "outputId": "1271ff1b-01b2-46ad-8042-91a90a235042"
      },
      "execution_count": null,
      "outputs": [
        {
          "output_type": "stream",
          "name": "stdout",
          "text": [
            "[ True  True  True False]\n",
            "bool\n"
          ]
        }
      ]
    },
    {
      "cell_type": "code",
      "source": [
        "\n",
        "\n",
        "\n"
      ],
      "metadata": {
        "id": "8VoxHqwMclI6"
      },
      "execution_count": null,
      "outputs": []
    },
    {
      "cell_type": "code",
      "source": [
        "# 5  NumPy Array Copy vs View\n",
        "\n",
        "# The Difference Between Copy and View\n",
        "\n",
        "# The main difference between a copy and a view of an array is that the copy is a new array,\n",
        "#  and the view is just a view of the original array.\n",
        "\n",
        "# The copy owns the data and any changes made to the copy will not affect original array,\n",
        "#  and any changes made to the original array will not affect the copy.\n",
        "\n",
        "# The view does not own the data and any changes made to the view will affect the original array,\n",
        "#  and any changes made to the original array will affect the view."
      ],
      "metadata": {
        "id": "Svi0MaYacrsZ"
      },
      "execution_count": null,
      "outputs": []
    },
    {
      "cell_type": "code",
      "source": [
        "# 5.1  Copy\n",
        "\n",
        "arr = np.array([1, 2, 3, 4, 5 ])\n",
        "\n",
        "arrcopy = arr.copy()\n",
        "\n",
        "print(arrcopy)"
      ],
      "metadata": {
        "colab": {
          "base_uri": "https://localhost:8080/"
        },
        "id": "0lg3_V_z4cXh",
        "outputId": "5f432dec-b99b-4eb1-e345-0704d9d01dba"
      },
      "execution_count": null,
      "outputs": [
        {
          "output_type": "stream",
          "name": "stdout",
          "text": [
            "[1 2 3 4 5]\n"
          ]
        }
      ]
    },
    {
      "cell_type": "code",
      "source": [
        "# 5.2  View\n",
        "\n",
        "arr = np.array([1, 2, 3, 4, 5])\n",
        "\n",
        "arrview = arr.view()\n",
        "\n",
        "print(arrview)"
      ],
      "metadata": {
        "colab": {
          "base_uri": "https://localhost:8080/"
        },
        "id": "x9WOlHhk9bPf",
        "outputId": "22872437-69d7-4ba1-bfb9-3abec9876a3e"
      },
      "execution_count": null,
      "outputs": [
        {
          "output_type": "stream",
          "name": "stdout",
          "text": [
            "[1 2 3 4 5]\n"
          ]
        }
      ]
    },
    {
      "cell_type": "code",
      "source": [
        "# 5.3  Making Changes in Copy\n",
        "\n",
        "# copy won't affect original data\n",
        "\n",
        "arr = np.array([1, 2, 3, 4, 5 ])\n",
        "\n",
        "arrcopy = arr.copy()\n",
        "\n",
        "arrcopy[2] = 8\n",
        "\n",
        "print(arrcopy)\n",
        "print()\n",
        "\n",
        "print(arr)"
      ],
      "metadata": {
        "colab": {
          "base_uri": "https://localhost:8080/"
        },
        "id": "NtiE04-U9own",
        "outputId": "a90c8f2c-59b9-42ee-ecfc-6229ae54814d"
      },
      "execution_count": null,
      "outputs": [
        {
          "output_type": "stream",
          "name": "stdout",
          "text": [
            "[1 2 8 4 5]\n",
            "\n",
            "[1 2 3 4 5]\n"
          ]
        }
      ]
    },
    {
      "cell_type": "code",
      "source": [
        "# 5.3  Making Changes in View\n",
        "\n",
        "# View will affect original data\n",
        "\n",
        "arr = np.array([1, 2, 3, 4, 5 ])\n",
        "\n",
        "arrview = arr.view()\n",
        "\n",
        "arrview[2] = 8\n",
        "\n",
        "print(arrcopy)\n",
        "print()\n",
        "\n",
        "print(arr)"
      ],
      "metadata": {
        "colab": {
          "base_uri": "https://localhost:8080/"
        },
        "id": "A6IJBK7K-Iq_",
        "outputId": "8eb3cb33-c7bb-4565-dda2-0b093ea680ac"
      },
      "execution_count": null,
      "outputs": [
        {
          "output_type": "stream",
          "name": "stdout",
          "text": [
            "[1 2 8 4 5]\n",
            "\n",
            "[1 2 8 4 5]\n"
          ]
        }
      ]
    },
    {
      "cell_type": "code",
      "source": [
        "# 5.4  Check if Array Owns its Data\n",
        "\n",
        "#  As mentioned above, copies owns the data, and views does not own the data, but how can we check this?\n",
        "\n",
        "#   Every NumPy array has the attribute base that returns None if the array owns the data.\n",
        "#    Otherwise, the base attribute refers to the original object.\n",
        "\n",
        "arr = np.array([1, 2, 3, 4, 5])\n",
        "\n",
        "arrcopy = arr.copy()\n",
        "arrview = arr.view()\n",
        "\n",
        "print(arrcopy.base)\n",
        "\n",
        "print(arrview.base) # view doesn't own its data so it returns the original data\n"
      ],
      "metadata": {
        "colab": {
          "base_uri": "https://localhost:8080/"
        },
        "id": "42IePHLQ-Tqm",
        "outputId": "665c4fcc-8a98-49a0-a281-40fd6951c0bd"
      },
      "execution_count": null,
      "outputs": [
        {
          "output_type": "stream",
          "name": "stdout",
          "text": [
            "None\n",
            "[1 2 3 4 5]\n"
          ]
        }
      ]
    },
    {
      "cell_type": "code",
      "source": [
        "\n",
        "\n",
        "\n"
      ],
      "metadata": {
        "id": "lrOoJQcb-g0W"
      },
      "execution_count": null,
      "outputs": []
    },
    {
      "cell_type": "code",
      "source": [
        "# 6  Array Shape\n",
        "\n",
        "# NumPy arrays have an attribute called shape that returns a tuple with each index having the number of corresponding elements.\n",
        "\n",
        "# The shape attribute in NumPy is used to determine the dimensions or shape of a NumPy array.\n",
        "#  It returns a tuple that specifies the number of elements along each axis (dimension) of the array.\n",
        "#   The length of the tuple corresponds to the number of dimensions in the array.\n"
      ],
      "metadata": {
        "id": "4iM0rf9X_QUW"
      },
      "execution_count": null,
      "outputs": []
    },
    {
      "cell_type": "code",
      "source": [
        "# 6.1  2-D array shape\n",
        "\n",
        "arr = np.array([[1, 2, 3, 4], [5, 6, 7, 8]])\n",
        "\n",
        "print(arr.shape)\n",
        "\n",
        "#  (2, 4), which means that the array has 2 dimensions,\n",
        "#   where the first dimension has 2 elements and the second has 4.\n"
      ],
      "metadata": {
        "colab": {
          "base_uri": "https://localhost:8080/"
        },
        "id": "ExCNckTu_US2",
        "outputId": "1ce0117e-cc19-4edc-fd10-9e4d543bc847"
      },
      "execution_count": null,
      "outputs": [
        {
          "output_type": "stream",
          "name": "stdout",
          "text": [
            "(2, 4)\n"
          ]
        }
      ]
    },
    {
      "cell_type": "code",
      "source": [
        "# 6.2  5-D array shape\n",
        "\n",
        "arr = np.array([1,2,3,4], ndmin = 5)\n",
        "\n",
        "print(arr)\n",
        "print()\n",
        "\n",
        "print(arr.shape)\n"
      ],
      "metadata": {
        "colab": {
          "base_uri": "https://localhost:8080/"
        },
        "id": "LdbcIV5x_jqG",
        "outputId": "9308664b-a1a2-4c5f-cf7d-adb7476505d1"
      },
      "execution_count": null,
      "outputs": [
        {
          "output_type": "stream",
          "name": "stdout",
          "text": [
            "[[[[[1 2 3 4]]]]]\n",
            "\n",
            "(1, 1, 1, 1, 4)\n"
          ]
        }
      ]
    },
    {
      "cell_type": "code",
      "source": [
        "# What does the shape tuple represent?\n",
        "\n",
        "# Integers at every index tells about the number of elements the corresponding dimension has.\n",
        "#  In the example above at index-4 we have value 4, so we can say that 5th ( 4 + 1 th) dimension has 4 elements.\n"
      ],
      "metadata": {
        "id": "EebJb2svCbWu"
      },
      "execution_count": null,
      "outputs": []
    },
    {
      "cell_type": "code",
      "source": [
        "\n",
        "\n",
        "\n"
      ],
      "metadata": {
        "id": "xpC6Tc_3C0eO"
      },
      "execution_count": null,
      "outputs": []
    },
    {
      "cell_type": "code",
      "source": [
        "# 7   Array Reshaping\n",
        "\n",
        "# Reshaping means changing the shape of an array.\n",
        "\n",
        "# The shape of an array is the number of elements in each dimension.\n",
        "\n",
        "# By reshaping we can add or remove dimensions or change number of elements in each dimension.\n"
      ],
      "metadata": {
        "id": "hJ3sru09C4Qf"
      },
      "execution_count": null,
      "outputs": []
    },
    {
      "cell_type": "code",
      "source": [
        "# 7.1  Reshaping From 1-D to 2-D\n",
        "\n",
        "# Converting 1-D array with 12 elements into a 2-D array.\n",
        "\n",
        "arr = np.array([1, 2, 3, 4, 5, 6, 7, 8, 9, 10, 11, 12])\n",
        "\n",
        "arr1 = arr.reshape(4, 3)\n",
        "\n",
        "print(arr1)\n",
        "\n",
        "# The outermost dimension will have 4 arrays, each with 3 elements\n",
        "\n",
        "# the product of the dimensions of the reshaped array should be equal to the product of the dimensions of the original array"
      ],
      "metadata": {
        "colab": {
          "base_uri": "https://localhost:8080/"
        },
        "id": "-ycfrypgJZj2",
        "outputId": "195bdc39-bffd-4122-c6ca-36f7968f2555"
      },
      "execution_count": null,
      "outputs": [
        {
          "output_type": "stream",
          "name": "stdout",
          "text": [
            "[[ 1  2  3]\n",
            " [ 4  5  6]\n",
            " [ 7  8  9]\n",
            " [10 11 12]]\n"
          ]
        }
      ]
    },
    {
      "cell_type": "code",
      "source": [
        "# 7.2  Reshaping From 1-D to 3-D\n",
        "\n",
        "# Converting 1-D array with 12 elements into a 3-D array.\n",
        "\n",
        "arr = np.array([1, 2, 3, 4, 5, 6, 7, 8, 9, 10, 11, 12])\n",
        "\n",
        "arr1 = arr.reshape(2, 3, 2)\n",
        "\n",
        "print(arr1)\n",
        "\n",
        "# The outermost dimension will have 2 arrays that contains 3 arrays, each with 2 elements"
      ],
      "metadata": {
        "colab": {
          "base_uri": "https://localhost:8080/"
        },
        "id": "il5d19cFKpOW",
        "outputId": "69393e63-cff3-4300-af2a-f7a5a6b16727"
      },
      "execution_count": null,
      "outputs": [
        {
          "output_type": "stream",
          "name": "stdout",
          "text": [
            "[[[ 1  2]\n",
            "  [ 3  4]\n",
            "  [ 5  6]]\n",
            "\n",
            " [[ 7  8]\n",
            "  [ 9 10]\n",
            "  [11 12]]]\n"
          ]
        }
      ]
    },
    {
      "cell_type": "code",
      "source": [
        "# 7.3 Can we Reshape into any shape?\n",
        "\n",
        "# Trying converting 1D array with 8 elements to a 2D array with 3 elements in each dimension\n",
        "\n",
        "# arr = np.array([1, 2, 3, 4, 5, 6, 7, 8])\n",
        "\n",
        "# arr1 = arr.reshape(3, 3) # 3x3 = 9 elements but we have only 8 elements\n",
        "\n",
        "# print(arr1)\n",
        "\n",
        "\n",
        "# We can reshape as long as the elements required for reshaping are equal in both shapes.\n",
        "\n",
        "# We can reshape an 8 elements 1D array into 4 elements in 2 rows 2D array\n",
        "#  but we cannot reshape it into a 3 elements 3 rows 2D array as that would require 3x3 = 9 elements."
      ],
      "metadata": {
        "id": "ngAfyGEYLB4W"
      },
      "execution_count": null,
      "outputs": []
    },
    {
      "cell_type": "code",
      "source": [
        "# 7.4  Flattening the arrays\n",
        "\n",
        "# Flattening array means converting a multidimensional array into a 1D array.\n",
        "#  We can use reshape(-1) to do this.\n",
        "\n",
        "arr = np.array([[1, 2, 3], [4, 5, 6]])\n",
        "\n",
        "arr1 = arr.reshape(-1)\n",
        "\n",
        "print(arr1)\n",
        "\n",
        "# Note: There are a lot of functions for changing the shapes of arrays in numpy flatten, ravel\n",
        "# and also for rearranging the elements rot90, flip, fliplr, flipud etc. These fall under Intermediate to Advanced section of numpy."
      ],
      "metadata": {
        "id": "3gnZJmnRL849",
        "colab": {
          "base_uri": "https://localhost:8080/"
        },
        "outputId": "eb500e43-3516-49bb-d63c-744af96d6fe0"
      },
      "execution_count": null,
      "outputs": [
        {
          "output_type": "stream",
          "name": "stdout",
          "text": [
            "[1 2 3 4 5 6]\n"
          ]
        }
      ]
    },
    {
      "cell_type": "code",
      "source": [
        "# 7.5  Unknown Dimension\n",
        "\n",
        "# You are allowed to have one \"unknown\" dimension.\n",
        "# Meaning that you do not have to specify an exact number for one of the dimensions in the reshape method.\n",
        "# Pass -1 as the value, and NumPy will calculate this number for you.\n",
        "\n",
        "arr = np.array([1, 2, 3, 4, 5, 6, 7, 8])\n",
        "\n",
        "arr1 = arr.reshape(2, 2, -1)\n",
        "\n",
        "print(arr1)\n",
        "\n",
        "#  Note: We can not pass -1 to more than one dimension."
      ],
      "metadata": {
        "colab": {
          "base_uri": "https://localhost:8080/"
        },
        "id": "dPsGgEnbRpeO",
        "outputId": "c0927e01-93bc-4e84-a53b-1072f55f6307"
      },
      "execution_count": null,
      "outputs": [
        {
          "output_type": "stream",
          "name": "stdout",
          "text": [
            "[[[1 2]\n",
            "  [3 4]]\n",
            "\n",
            " [[5 6]\n",
            "  [7 8]]]\n"
          ]
        }
      ]
    },
    {
      "cell_type": "code",
      "source": [
        "# 7.6  Returns Copy or View?\n",
        "\n",
        "arr = np.array([1, 2, 3, 4, 5, 6, 7, 8])\n",
        "\n",
        "arr1 = arr.reshape(4,2)\n",
        "\n",
        "print(arr1)\n",
        "print()\n",
        "\n",
        "print(arr1.base)"
      ],
      "metadata": {
        "colab": {
          "base_uri": "https://localhost:8080/"
        },
        "id": "YlnCKH0iSgrl",
        "outputId": "64853e88-cc00-4b70-dc3e-be088e368607"
      },
      "execution_count": null,
      "outputs": [
        {
          "output_type": "stream",
          "name": "stdout",
          "text": [
            "[[1 2]\n",
            " [3 4]\n",
            " [5 6]\n",
            " [7 8]]\n",
            "\n",
            "[1 2 3 4 5 6 7 8]\n"
          ]
        }
      ]
    },
    {
      "cell_type": "code",
      "source": [
        "arr = np.array([1, 2, 3, 4, 5, 6, 7, 8])\n",
        "\n",
        "print(arr.reshape(4,2).base)\n"
      ],
      "metadata": {
        "colab": {
          "base_uri": "https://localhost:8080/"
        },
        "id": "NDb__lp5SpB2",
        "outputId": "0cb2253e-c4e5-4492-8cd0-362d1775d091"
      },
      "execution_count": null,
      "outputs": [
        {
          "output_type": "stream",
          "name": "stdout",
          "text": [
            "[1 2 3 4 5 6 7 8]\n"
          ]
        }
      ]
    },
    {
      "cell_type": "code",
      "source": [
        "\n",
        "\n",
        "\n"
      ],
      "metadata": {
        "id": "uSCKyE57YVjc"
      },
      "execution_count": null,
      "outputs": []
    },
    {
      "cell_type": "code",
      "source": [
        "# 8  Iterating Arrays\n",
        "\n",
        "# Iterating means going through elements one by one.\n",
        "#  As we deal with multi-dimensional arrays in numpy, we can do this using basic for loop of python.\n",
        "\n",
        "# If we iterate on a n-D array it will go through n-1th dimension one by one."
      ],
      "metadata": {
        "id": "VX8NhoyRYz60"
      },
      "execution_count": null,
      "outputs": []
    },
    {
      "cell_type": "code",
      "source": [
        "# 8.1  Iterating 1-D array\n",
        "\n",
        "arr = np.array([1, 2, 3, 4, 5])\n",
        "\n",
        "for z in arr:  # iterates over each element\n",
        "  print(z)\n"
      ],
      "metadata": {
        "colab": {
          "base_uri": "https://localhost:8080/"
        },
        "id": "9y0obqdOwPn2",
        "outputId": "496bf548-5966-40ec-8b22-347c560ac7fa"
      },
      "execution_count": null,
      "outputs": [
        {
          "output_type": "stream",
          "name": "stdout",
          "text": [
            "1\n",
            "2\n",
            "3\n",
            "4\n",
            "5\n"
          ]
        }
      ]
    },
    {
      "cell_type": "code",
      "source": [
        "# 8.2  Iterating 2-D array\n",
        "\n",
        "arr = np.array([[1, 2, 3], [6, 5, 4]])\n",
        "\n",
        "for x in arr:  # iterates over rows & not elements\n",
        "  print(x)\n",
        "\n",
        "#  the loop for x in arr iterates over the rows of the 2D NumPy array arr\n",
        "#   In each iteration, x represents a row of the array, so when you print x, you see the entire row as an array."
      ],
      "metadata": {
        "colab": {
          "base_uri": "https://localhost:8080/"
        },
        "id": "mbVoKqWP3nNE",
        "outputId": "57ebe57b-ef79-41f6-d16b-b1dc60579c07"
      },
      "execution_count": null,
      "outputs": [
        {
          "output_type": "stream",
          "name": "stdout",
          "text": [
            "[1 2 3]\n",
            "[6 5 4]\n"
          ]
        }
      ]
    },
    {
      "cell_type": "code",
      "source": [
        "# the above program iterates each row of the 2D array\n",
        "\n",
        "# To iterate over each element one by one,\n",
        "\n",
        "arr = np.array([[1, 2, 3], [6, 5, 4]])\n",
        "\n",
        "for z in arr:  # iterates over rows\n",
        "  for y in z:  # iterates over elements in each row\n",
        "    print(y)\n",
        "\n"
      ],
      "metadata": {
        "colab": {
          "base_uri": "https://localhost:8080/"
        },
        "id": "qXuuFdlL30hh",
        "outputId": "37a22554-59df-42a3-c1df-c72af76a279a"
      },
      "execution_count": null,
      "outputs": [
        {
          "output_type": "stream",
          "name": "stdout",
          "text": [
            "1\n",
            "2\n",
            "3\n",
            "6\n",
            "5\n",
            "4\n"
          ]
        }
      ]
    },
    {
      "cell_type": "code",
      "source": [
        "# 8.3  Iterating 3-D array\n",
        "\n",
        "arr = np.array([[[1, 2, 3], [4, 5, 6]], [[7, 8, 9], [10, 11, 12]]])\n",
        "\n",
        "for z in arr:\n",
        "  print(z)\n"
      ],
      "metadata": {
        "colab": {
          "base_uri": "https://localhost:8080/"
        },
        "id": "yp7azKC14Q8K",
        "outputId": "48466d98-3757-42aa-ae50-131d17b86aff"
      },
      "execution_count": null,
      "outputs": [
        {
          "output_type": "stream",
          "name": "stdout",
          "text": [
            "[[1 2 3]\n",
            " [4 5 6]]\n",
            "[[ 7  8  9]\n",
            " [10 11 12]]\n"
          ]
        }
      ]
    },
    {
      "cell_type": "code",
      "source": [
        "# the above program iterates each row\n",
        "\n",
        "# To return the actual values, the scalars, we have to iterate the arrays in each dimension.\n",
        "# iterating over each element one by one,\n",
        "\n",
        "arr = np.array([[[1, 2, 3], [4, 5, 6]], [[7, 8, 9], [10, 11, 12]]])\n",
        "\n",
        "for x in arr:\n",
        "  for y in x:\n",
        "    for z in y:\n",
        "      print(z)\n",
        "\n"
      ],
      "metadata": {
        "colab": {
          "base_uri": "https://localhost:8080/"
        },
        "id": "gnt_z5756Ha3",
        "outputId": "1cea1910-ef26-490d-8170-c80d436210bb"
      },
      "execution_count": null,
      "outputs": [
        {
          "output_type": "stream",
          "name": "stdout",
          "text": [
            "1\n",
            "2\n",
            "3\n",
            "4\n",
            "5\n",
            "6\n",
            "7\n",
            "8\n",
            "9\n",
            "10\n",
            "11\n",
            "12\n"
          ]
        }
      ]
    },
    {
      "cell_type": "code",
      "source": [
        "# 8.4  Iterating Arrays on each element Using nditer()\n",
        "\n",
        "\n",
        "# Iterating on Each Scalar Element\n",
        "\n",
        "#  In basic for loops,iterating through each scalar of an array we need to use n for loops which can be difficult to write for arrays with very high dimensionality.\n",
        "\n",
        "#   The function nditer() is a helping function that can be used from very basic to very advanced iterations. It solves some basic issues which we face in iteration\n",
        "\n",
        "\n",
        "arr = np.array([[[1, 2, 3], [4, 5, 6]], [[7, 8, 9], [10, 11, 12]]])\n",
        "\n",
        "for x in np.nditer(arr):\n",
        "  print(x)\n"
      ],
      "metadata": {
        "colab": {
          "base_uri": "https://localhost:8080/"
        },
        "id": "O2gzye8q7ZLl",
        "outputId": "3eadac82-1151-4716-d457-da80498c0bc0"
      },
      "execution_count": null,
      "outputs": [
        {
          "output_type": "stream",
          "name": "stdout",
          "text": [
            "1\n",
            "2\n",
            "3\n",
            "4\n",
            "5\n",
            "6\n",
            "7\n",
            "8\n",
            "9\n",
            "10\n",
            "11\n",
            "12\n"
          ]
        }
      ]
    },
    {
      "cell_type": "code",
      "source": [
        "# 8.5  Iterating With Different Step Size using nditer()\n",
        "\n",
        "arr = np.array([[1, 2, 3], [4, 5, 6]])\n",
        "\n",
        "for z in np.nditer(arr[:, ::2]):\n",
        "  print(z)\n"
      ],
      "metadata": {
        "colab": {
          "base_uri": "https://localhost:8080/"
        },
        "id": "_ZWDCors8PJ8",
        "outputId": "0fa5fdfc-5c0b-4231-d943-0213069aad32"
      },
      "execution_count": null,
      "outputs": [
        {
          "output_type": "stream",
          "name": "stdout",
          "text": [
            "1\n",
            "3\n",
            "4\n",
            "6\n"
          ]
        }
      ]
    },
    {
      "cell_type": "code",
      "source": [
        "# 8.6  Iterating Array With Different Data Types\n",
        "\n",
        "# We can use \" op_dtypes \" argument and pass it the expected datatype to change the datatype of elements while iterating.\n",
        "\n",
        "# NumPy does not change the data type of the element in-place (where the element is in array) so it needs some other space to perform this action,\n",
        "#  that extra space is called buffer, and in order to enable it in nditer() we pass \" flags=['buffered'] \"\n",
        "\n",
        "arr = np.array([1, 2, 3])\n",
        "\n",
        "for x in np.nditer(arr, flags=['buffered'], op_dtypes='S'):\n",
        "  print(x)\n"
      ],
      "metadata": {
        "id": "dY0BOu3E9aiM",
        "colab": {
          "base_uri": "https://localhost:8080/"
        },
        "outputId": "0f0a41e1-3143-4224-89ae-266ae1e47cb7"
      },
      "execution_count": null,
      "outputs": [
        {
          "output_type": "stream",
          "name": "stdout",
          "text": [
            "b'1'\n",
            "b'2'\n",
            "b'3'\n"
          ]
        }
      ]
    },
    {
      "cell_type": "code",
      "source": [
        "# 8.7  Enumerated Iteration Using ndenumerate()\n",
        "\n",
        "# Enumeration means mentioning sequence number of somethings one by one.\n",
        "\n",
        "# Sometimes we require corresponding index of the element while iterating, the \" ndenumerate() \" method can be used for those usecases.\n"
      ],
      "metadata": {
        "id": "f33rn0XKP06W"
      },
      "execution_count": null,
      "outputs": []
    },
    {
      "cell_type": "code",
      "source": [
        "#  Enumerating 1D arrays elements using ndenumerate()\n",
        "\n",
        "arr = np.array([1 ,2, 3])\n",
        "\n",
        "for index,x in np.ndenumerate(arr):\n",
        "  print(index, x)\n"
      ],
      "metadata": {
        "colab": {
          "base_uri": "https://localhost:8080/"
        },
        "id": "tRxl640rDT9M",
        "outputId": "536f25fd-ac40-410f-b3b4-98f98f7d03b9"
      },
      "execution_count": null,
      "outputs": [
        {
          "output_type": "stream",
          "name": "stdout",
          "text": [
            "(0,) 1\n",
            "(1,) 2\n",
            "(2,) 3\n"
          ]
        }
      ]
    },
    {
      "cell_type": "code",
      "source": [
        "#  Enumerating 2D arrays elements using ndenumerate()\n",
        "\n",
        "arr = np.array([[1 ,2, 3], [4, 5, 6]])\n",
        "\n",
        "for index,x in np.ndenumerate(arr):\n",
        "  print(index, x)"
      ],
      "metadata": {
        "colab": {
          "base_uri": "https://localhost:8080/"
        },
        "id": "l4dpoaqlSWKh",
        "outputId": "07a61b03-9666-4b52-86bf-fd20e285102d"
      },
      "execution_count": null,
      "outputs": [
        {
          "output_type": "stream",
          "name": "stdout",
          "text": [
            "(0, 0) 1\n",
            "(0, 1) 2\n",
            "(0, 2) 3\n",
            "(1, 0) 4\n",
            "(1, 1) 5\n",
            "(1, 2) 6\n"
          ]
        }
      ]
    },
    {
      "cell_type": "code",
      "source": [
        "\n",
        "\n",
        "\n"
      ],
      "metadata": {
        "id": "qJyca51FSjpq"
      },
      "execution_count": null,
      "outputs": []
    },
    {
      "cell_type": "code",
      "source": [
        "# 9  Joining NumPy Arrays\n",
        "\n",
        "# Joining means putting contents of two or more arrays in a single array.\n",
        "\n",
        "#  In SQL we join tables based on a key, whereas in NumPy we join arrays by axes.\n",
        "\n",
        "#   We pass a sequence of arrays that we want to join to the concatenate() function, along with the axis.\n",
        "#    If axis is not explicitly passed, it is taken as 0.\n"
      ],
      "metadata": {
        "id": "7j2U7fDgfG-J"
      },
      "execution_count": null,
      "outputs": []
    },
    {
      "cell_type": "code",
      "source": [
        "# 9.1  Joining two 1D arrays using concatenate()\n",
        "\n",
        "arr1 = np.array([1, 2, 3])\n",
        "arr2 = np.array([4, 5, 6])\n",
        "\n",
        "arr3 = np.concatenate((arr1, arr2))\n",
        "\n",
        "print(arr3)"
      ],
      "metadata": {
        "colab": {
          "base_uri": "https://localhost:8080/"
        },
        "id": "HevxtqMDfY_f",
        "outputId": "c7f3e703-280d-45e9-bba3-cd30f3bf7a07"
      },
      "execution_count": null,
      "outputs": [
        {
          "output_type": "stream",
          "name": "stdout",
          "text": [
            "[1 2 3 4 5 6]\n"
          ]
        }
      ]
    },
    {
      "cell_type": "code",
      "source": [
        "# 9.2  Joining two 2D arrays using concatenate()\n",
        "\n",
        "arr1 = np.array([[1, 2, 3], [4, 5, 6]])\n",
        "arr2 = np.array([[8, 9, 10], [11, 12, 13]])\n",
        "\n",
        "arr3 = np.concatenate((arr1, arr2), axis=1)  # Horizontal Concatenation\n",
        "\n",
        "print(arr3)\n",
        "\n",
        "# axis=0 means Vertical Concatenation --  rows are stacked on top of each other\n",
        "# axis=1 means Horizontal Concatenation -- columns are appended side by side"
      ],
      "metadata": {
        "id": "DWqH3W26fpJh",
        "colab": {
          "base_uri": "https://localhost:8080/"
        },
        "outputId": "fb0eac05-b9fd-458d-fec4-dd11c2d8f890"
      },
      "execution_count": null,
      "outputs": [
        {
          "output_type": "stream",
          "name": "stdout",
          "text": [
            "[[ 1  2  3  8  9 10]\n",
            " [ 4  5  6 11 12 13]]\n"
          ]
        }
      ]
    },
    {
      "cell_type": "code",
      "source": [
        "arr1 = np.array([[1, 2, 3], [4, 5, 6]])\n",
        "arr2 = np.array([[8, 9, 10], [11, 12, 13]])\n",
        "\n",
        "arr3 = np.concatenate((arr1, arr2), axis=0)  # Vertical Concatenation\n",
        "\n",
        "print(arr3)"
      ],
      "metadata": {
        "colab": {
          "base_uri": "https://localhost:8080/"
        },
        "id": "WVm7zqSllEMG",
        "outputId": "c105ddfa-2600-4fdf-a5be-01d30923c451"
      },
      "execution_count": null,
      "outputs": [
        {
          "output_type": "stream",
          "name": "stdout",
          "text": [
            "[[ 1  2  3]\n",
            " [ 4  5  6]\n",
            " [ 8  9 10]\n",
            " [11 12 13]]\n"
          ]
        }
      ]
    },
    {
      "cell_type": "code",
      "source": [
        "# The key difference between axis=0 and axis=1 is the direction of concatenation:\n",
        "\n",
        "#  axis=0 (Vertical Concatenation):\n",
        "\n",
        "#  Concatenating along axis=0 means stacking arrays vertically, i.e., rows are stacked on top of each other.\n",
        "#   If you are concatenating 2D arrays, it will add rows, extending the number of rows in the resulting array.\n",
        "#    For higher-dimensional arrays, it means stacking along the first axis, which is typically the rows in 2D arrays.\n",
        "\n",
        "\n",
        "#  axis=1 (Horizontal Concatenation):\n",
        "\n",
        "#  Concatenating along axis=1 means stacking arrays horizontally, i.e., columns are appended side by side.\n",
        "#   If you are concatenating 2D arrays, it will add columns, extending the number of columns in the resulting array.\n",
        "#    For higher-dimensional arrays, it means stacking along the second axis, which is typically the columns in 2D arrays.\n"
      ],
      "metadata": {
        "id": "HP7s25RhliC8"
      },
      "execution_count": null,
      "outputs": []
    },
    {
      "cell_type": "code",
      "source": [
        "\n"
      ],
      "metadata": {
        "id": "-vio-lrACHJQ"
      },
      "execution_count": null,
      "outputs": []
    },
    {
      "cell_type": "code",
      "source": [
        "# 9.3  Joining Arrays Using Stack Functions i.e. np.stack\n",
        "\n",
        "# Stacking is same as concatenation, the only difference is that stacking creates a new axis and then joining arrays along that new axis\n",
        "\n",
        "# np.concatenate: Combines arrays along an existing axis without creating new dimensions.\n",
        "# np.stack: Combines arrays along a new axis, creating an additional dimension.\n",
        "\n",
        "\n",
        "arr1 = np.array([1, 2, 3])\n",
        "arr2 = np.array([8, 9, 10])\n",
        "\n",
        "arr3 = np.stack((arr1, arr2), axis=0)  # stack\n",
        "\n",
        "print(arr3)\n",
        "print()\n",
        "\n",
        "\n",
        "arr4 = np.concatenate((arr1, arr2), axis=0) # concatenate\n",
        "\n",
        "print(arr4)\n",
        "\n",
        "# arr3 has 2D, wheras arr4 has 1D"
      ],
      "metadata": {
        "colab": {
          "base_uri": "https://localhost:8080/"
        },
        "id": "woZsr5iiCjk_",
        "outputId": "84c8da60-576e-4497-c6dd-b159144b72ef"
      },
      "execution_count": null,
      "outputs": [
        {
          "output_type": "stream",
          "name": "stdout",
          "text": [
            "[[ 1  2  3]\n",
            " [ 8  9 10]]\n",
            "\n",
            "[ 1  2  3  8  9 10]\n"
          ]
        }
      ]
    },
    {
      "cell_type": "code",
      "source": [
        "arr1 = np.array([1, 2, 3])\n",
        "arr2 = np.array([8, 9, 10])\n",
        "\n",
        "arr3 = np.stack((arr1, arr2), axis=1)  # stack\n",
        "\n",
        "print(arr3)\n",
        "print()\n",
        "\n",
        "\n",
        "# arr4 = np.concatenate((arr1, arr2), axis=1) # concatenate\n",
        "\n",
        "# print(arr4)\n",
        "\n",
        "# arr3 has 2D, wheras arr4 is not possible, need 2D arrays to concatenate horizontally"
      ],
      "metadata": {
        "colab": {
          "base_uri": "https://localhost:8080/"
        },
        "id": "EGzy33_QEaN4",
        "outputId": "142b1482-e2a0-4f0d-d7f3-591c4bff0001"
      },
      "execution_count": null,
      "outputs": [
        {
          "output_type": "stream",
          "name": "stdout",
          "text": [
            "[[ 1  8]\n",
            " [ 2  9]\n",
            " [ 3 10]]\n",
            "\n"
          ]
        }
      ]
    },
    {
      "cell_type": "code",
      "source": [
        "# 9.4  Stacking Along Rows using hstack()\n",
        "\n",
        "arr1 = np.array([1, 2, 3])\n",
        "arr2 = np.array([8, 9, 10])\n",
        "\n",
        "arr3 = np.hstack((arr1, arr2))\n",
        "print(arr3)\n",
        "\n",
        "# looks all in one line"
      ],
      "metadata": {
        "colab": {
          "base_uri": "https://localhost:8080/"
        },
        "id": "HhmYDqojFSqT",
        "outputId": "e3e7f328-3740-4677-fa9b-cc8d8a07ea79"
      },
      "execution_count": null,
      "outputs": [
        {
          "output_type": "stream",
          "name": "stdout",
          "text": [
            "[ 1  2  3  8  9 10]\n"
          ]
        }
      ]
    },
    {
      "cell_type": "code",
      "source": [
        "# 9.5  Stacking Along Columns using vstack()\n",
        "\n",
        "arr1 = np.array([1, 2, 3])\n",
        "arr2 = np.array([8, 9, 10])\n",
        "\n",
        "arr3 = np.vstack((arr2, arr1))\n",
        "print(arr3)\n",
        "\n",
        "# looks one upon one"
      ],
      "metadata": {
        "colab": {
          "base_uri": "https://localhost:8080/"
        },
        "id": "vKAUXHnGF1h2",
        "outputId": "7957aba0-8c45-4fc8-a031-a3c89034d535"
      },
      "execution_count": null,
      "outputs": [
        {
          "output_type": "stream",
          "name": "stdout",
          "text": [
            "[[ 8  9 10]\n",
            " [ 1  2  3]]\n"
          ]
        }
      ]
    },
    {
      "cell_type": "code",
      "source": [
        "# 9.6  Stacking Along Height (depth) using dstack()\n",
        "\n",
        "arr1 = np.array([1, 2, 3])\n",
        "arr2 = np.array([8, 9, 10])\n",
        "\n",
        "arr3 = np.dstack((arr1, arr2))\n",
        "print(arr3)\n",
        "\n",
        "# looks side by side, similar to hstack() but not all in one line"
      ],
      "metadata": {
        "colab": {
          "base_uri": "https://localhost:8080/"
        },
        "id": "tEeWPIDKGBFO",
        "outputId": "34105d15-0ea7-450a-cf64-76f63bf5d908"
      },
      "execution_count": null,
      "outputs": [
        {
          "output_type": "stream",
          "name": "stdout",
          "text": [
            "[[[ 1  8]\n",
            "  [ 2  9]\n",
            "  [ 3 10]]]\n"
          ]
        }
      ]
    },
    {
      "cell_type": "code",
      "source": [
        "# summary of JOIN\n",
        "\n",
        "# two ways to join,\n",
        "#  1. Concatenate\n",
        "#  2. stack\n",
        "\n",
        "\n",
        "# In .concatenate(),\n",
        "#  1.1 -- axis=0 means Vertical Concatenation - rows are stacked on top of each other\n",
        "#  1.2 -- axis=1 means Horizontal Concatenation - columns are appended side by side\n",
        "\n",
        "\n",
        "# In .stack(),\n",
        "#  2.1 -- hstack() - Stacking Along Rows\n",
        "#  2.2 -- vstack() - Stacking Along Columns\n",
        "#  2.3 -- dstack() - Stacking Along Height (depth)\n",
        "\n",
        "# note that hstack() & dstack() are similar with one difference,\n",
        "#   in hstack() -- stacked next to one another in a single line/row\n",
        "#   in dstack() -- stacked next to one another in multiple lines/rows\n"
      ],
      "metadata": {
        "id": "OwWFgoVdGP3u"
      },
      "execution_count": null,
      "outputs": []
    },
    {
      "cell_type": "code",
      "source": [
        "\n",
        "\n",
        "\n"
      ],
      "metadata": {
        "id": "cbMO_4kpWe3G"
      },
      "execution_count": null,
      "outputs": []
    },
    {
      "cell_type": "code",
      "source": [
        "# 10  Splitting NumPy Arrays\n",
        "\n",
        "#  Splitting breaks one array into multiple whereas Joining merges multiple arrays into one\n",
        "\n",
        "#  array_split() is used for splitting arrays\n",
        "#   pass the array that need to be split and the number of splits.\n"
      ],
      "metadata": {
        "id": "sQXNnt75Wf99"
      },
      "execution_count": null,
      "outputs": []
    },
    {
      "cell_type": "code",
      "source": [
        "# 10.1  Splitting the array in 3 parts using array_split()\n",
        "\n",
        "arr = np.array([1, 2, 3, 4, 5, 6])\n",
        "\n",
        "arr1 = np.array_split(arr, 3)\n",
        "\n",
        "print(arr1)\n",
        "\n",
        "# The return value is a list containing three arrays."
      ],
      "metadata": {
        "colab": {
          "base_uri": "https://localhost:8080/"
        },
        "id": "ClhCnLljsN8u",
        "outputId": "89a128c6-61bc-4415-aa74-33320f1dbbd5"
      },
      "execution_count": null,
      "outputs": [
        {
          "output_type": "stream",
          "name": "stdout",
          "text": [
            "[array([1, 2]), array([3, 4]), array([5, 6])]\n"
          ]
        }
      ]
    },
    {
      "cell_type": "code",
      "source": [
        "#  If the array has less elements than required, it will adjust from the end accordingly.\n",
        "\n",
        "arr = np.array([1, 2, 3, 4, 5, 6])\n",
        "\n",
        "arr1 = np.array_split(arr, 4)\n",
        "\n",
        "print(arr1)"
      ],
      "metadata": {
        "colab": {
          "base_uri": "https://localhost:8080/"
        },
        "id": "FX54Okqfsjwm",
        "outputId": "deac22ad-81fc-45cd-d9d3-8eecc79319ff"
      },
      "execution_count": null,
      "outputs": [
        {
          "output_type": "stream",
          "name": "stdout",
          "text": [
            "[array([1, 2]), array([3, 4]), array([5]), array([6])]\n"
          ]
        }
      ]
    },
    {
      "cell_type": "code",
      "source": [
        "arr = np.array([1, 2, 3, 4, 5])\n",
        "\n",
        "arr1 = np.array_split(arr, 3)\n",
        "\n",
        "print(arr1)\n",
        "\n",
        "# Note: We also have the method split() available but it will not adjust the elements when elements are less in source array for splitting\n",
        "#  like in example above, array_split() worked properly but split() would fail."
      ],
      "metadata": {
        "colab": {
          "base_uri": "https://localhost:8080/"
        },
        "id": "d1gayt2ItNTl",
        "outputId": "bbeacb2f-28c2-4ed7-ebaa-e0c892fdfba4"
      },
      "execution_count": null,
      "outputs": [
        {
          "output_type": "stream",
          "name": "stdout",
          "text": [
            "[array([1, 2]), array([3, 4]), array([5])]\n"
          ]
        }
      ]
    },
    {
      "cell_type": "code",
      "source": [
        "# 10.2  Accessing the splitted arrays\n",
        "\n",
        "# The return value of the array_split() method is an array containing each of the split as an array.\n",
        "\n",
        "# If you split an array into 3 arrays, you can access them from the result just like any array element\n",
        "\n",
        "arr = np.array([1, 2, 3, 4, 5, 6])\n",
        "\n",
        "arr1 = np.array_split(arr, 3)\n",
        "\n",
        "print(arr1)\n",
        "print()\n",
        "\n",
        "print(arr1[0])\n",
        "print(arr1[1])\n",
        "print(arr1[2])"
      ],
      "metadata": {
        "colab": {
          "base_uri": "https://localhost:8080/"
        },
        "id": "B1TO7T6-tUvI",
        "outputId": "f717d236-a97c-43ed-9010-b5966a764ce6"
      },
      "execution_count": null,
      "outputs": [
        {
          "output_type": "stream",
          "name": "stdout",
          "text": [
            "[array([1, 2]), array([3, 4]), array([5, 6])]\n",
            "\n",
            "[1 2]\n",
            "[3 4]\n",
            "[5 6]\n"
          ]
        }
      ]
    },
    {
      "cell_type": "code",
      "source": [
        "# 10.3  Splitting 2-D arrays\n",
        "\n",
        "# Splitting the 2-D array into three 2-D arrays\n",
        "\n",
        "arr = np.array([[1, 2], [3, 4], [5, 6], [7, 8], [9, 10], [11, 12]])\n",
        "\n",
        "arr1 = np.array_split(arr, 3)\n",
        "\n",
        "print(arr)\n",
        "print()\n",
        "\n",
        "print(arr1)\n",
        "print()\n",
        "\n",
        "print(arr1[0])\n",
        "print()\n",
        "print(arr1[2])\n",
        "\n",
        "# returns three 2-D array"
      ],
      "metadata": {
        "colab": {
          "base_uri": "https://localhost:8080/"
        },
        "id": "daezFzWwt4b1",
        "outputId": "7c51e1d4-59d2-469c-ed39-24b51bd12074"
      },
      "execution_count": null,
      "outputs": [
        {
          "output_type": "stream",
          "name": "stdout",
          "text": [
            "[[ 1  2]\n",
            " [ 3  4]\n",
            " [ 5  6]\n",
            " [ 7  8]\n",
            " [ 9 10]\n",
            " [11 12]]\n",
            "\n",
            "[array([[1, 2],\n",
            "       [3, 4]]), array([[5, 6],\n",
            "       [7, 8]]), array([[ 9, 10],\n",
            "       [11, 12]])]\n",
            "\n",
            "[[1 2]\n",
            " [3 4]]\n",
            "\n",
            "[[ 9 10]\n",
            " [11 12]]\n"
          ]
        }
      ]
    },
    {
      "cell_type": "code",
      "source": [
        "# 10.4  Splitting along the row (axis=1)\n",
        "\n",
        "arr = np.array([[1, 2], [3, 4], [5, 6], [7, 8], [9, 10], [11, 12]])\n",
        "\n",
        "arr1 = np.array_split(arr, 3, axis=1)\n",
        "\n",
        "print(arr)\n",
        "print()\n",
        "\n",
        "print(arr1)\n",
        "print()\n",
        "\n",
        "print(arr1[0])\n",
        "print()\n",
        "print(arr1[1])"
      ],
      "metadata": {
        "colab": {
          "base_uri": "https://localhost:8080/"
        },
        "id": "ErFZV8z4xGjb",
        "outputId": "a00c4f33-674e-4ec0-a7ea-c5c2ebf5d639"
      },
      "execution_count": null,
      "outputs": [
        {
          "output_type": "stream",
          "name": "stdout",
          "text": [
            "[[ 1  2]\n",
            " [ 3  4]\n",
            " [ 5  6]\n",
            " [ 7  8]\n",
            " [ 9 10]\n",
            " [11 12]]\n",
            "\n",
            "[array([[ 1],\n",
            "       [ 3],\n",
            "       [ 5],\n",
            "       [ 7],\n",
            "       [ 9],\n",
            "       [11]]), array([[ 2],\n",
            "       [ 4],\n",
            "       [ 6],\n",
            "       [ 8],\n",
            "       [10],\n",
            "       [12]]), array([], shape=(6, 0), dtype=int64)]\n",
            "\n",
            "[[ 1]\n",
            " [ 3]\n",
            " [ 5]\n",
            " [ 7]\n",
            " [ 9]\n",
            " [11]]\n",
            "\n",
            "[[ 2]\n",
            " [ 4]\n",
            " [ 6]\n",
            " [ 8]\n",
            " [10]\n",
            " [12]]\n"
          ]
        }
      ]
    },
    {
      "cell_type": "code",
      "source": [
        "# 10.5  Using hsplit()\n",
        "\n",
        "# arr = np.array([[1, 2], [3, 4], [5, 6], [7, 8], [9, 10], [11, 12]])\n",
        "# arr1 = np.hsplit(arr, 3)\n",
        "# print(arr1)\n",
        "\n",
        "arr = np.array([[1, 2, 3], [4, 5, 6], [7, 8, 9], [10, 11, 12], [13, 14, 15], [16, 17, 18]])\n",
        "\n",
        "arr1 = np.hsplit(arr, 3)\n",
        "\n",
        "print(arr1)\n",
        "print()\n",
        "\n",
        "# to understand better,\n",
        "print(arr1[0])\n",
        "print()\n",
        "print(arr1[1])\n",
        "print()\n",
        "print(arr1[2])"
      ],
      "metadata": {
        "colab": {
          "base_uri": "https://localhost:8080/"
        },
        "id": "hhqYlC9oyAla",
        "outputId": "5530f161-1df5-4c7f-d644-bca88677052f"
      },
      "execution_count": null,
      "outputs": [
        {
          "output_type": "stream",
          "name": "stdout",
          "text": [
            "[array([[ 1],\n",
            "       [ 4],\n",
            "       [ 7],\n",
            "       [10],\n",
            "       [13],\n",
            "       [16]]), array([[ 2],\n",
            "       [ 5],\n",
            "       [ 8],\n",
            "       [11],\n",
            "       [14],\n",
            "       [17]]), array([[ 3],\n",
            "       [ 6],\n",
            "       [ 9],\n",
            "       [12],\n",
            "       [15],\n",
            "       [18]])]\n",
            "\n",
            "[[ 1]\n",
            " [ 4]\n",
            " [ 7]\n",
            " [10]\n",
            " [13]\n",
            " [16]]\n",
            "\n",
            "[[ 2]\n",
            " [ 5]\n",
            " [ 8]\n",
            " [11]\n",
            " [14]\n",
            " [17]]\n",
            "\n",
            "[[ 3]\n",
            " [ 6]\n",
            " [ 9]\n",
            " [12]\n",
            " [15]\n",
            " [18]]\n"
          ]
        }
      ]
    },
    {
      "cell_type": "code",
      "source": [
        "# Note: Similar alternates to vstack() and dstack() are available as vsplit() and dsplit().\n"
      ],
      "metadata": {
        "id": "Bza3km7-zAWA"
      },
      "execution_count": null,
      "outputs": []
    },
    {
      "cell_type": "code",
      "source": [
        "\n",
        "\n",
        "\n"
      ],
      "metadata": {
        "id": "7WI6YjiZzhU4"
      },
      "execution_count": null,
      "outputs": []
    },
    {
      "cell_type": "code",
      "source": [
        "# 11  Searching Arrays\n",
        "\n",
        "# You can search an array for a certain value, and return the indexes that get a match.\n",
        "\n",
        "# Searching an array using the where() method\n",
        "\n",
        "arr = np.array([1, 2, 3, 4, 5])\n",
        "\n",
        "arr1 = np.where(arr == 3)\n",
        "\n",
        "print(arr1)"
      ],
      "metadata": {
        "id": "RKJCkkf_ziBB",
        "colab": {
          "base_uri": "https://localhost:8080/"
        },
        "outputId": "23641b84-7931-4413-f6e3-b01148c9ae99"
      },
      "execution_count": null,
      "outputs": [
        {
          "output_type": "stream",
          "name": "stdout",
          "text": [
            "(array([2]),)\n"
          ]
        }
      ]
    },
    {
      "cell_type": "code",
      "source": [
        "# 11.1\n",
        "\n",
        "arr = np.array([3, 1, 2, 3, 7, 5, 3, 8])\n",
        "\n",
        "arr1 = np.where(arr == 3)\n",
        "\n",
        "print(arr1)\n",
        "\n",
        "# means that the value 3 is present at index 0, 3 and 6."
      ],
      "metadata": {
        "colab": {
          "base_uri": "https://localhost:8080/"
        },
        "id": "gDWQdvnDwoAv",
        "outputId": "4db58891-a9a7-420b-d094-33b6d7388531"
      },
      "execution_count": null,
      "outputs": [
        {
          "output_type": "stream",
          "name": "stdout",
          "text": [
            "(array([0, 3, 6]),)\n"
          ]
        }
      ]
    },
    {
      "cell_type": "code",
      "source": [
        "#  Find the indexes where the values are even\n",
        "\n",
        "arr = np.array([1, 2, 3, 4, 5, 6, 7, 8])\n",
        "\n",
        "arr1 = np.where(arr%2 == 0)\n",
        "\n",
        "print(arr1)\n",
        "\n",
        "# will show index values of the answers"
      ],
      "metadata": {
        "colab": {
          "base_uri": "https://localhost:8080/"
        },
        "id": "S6Iag01hwwX2",
        "outputId": "1ba45f46-e209-46a4-c768-1228c254cfc1"
      },
      "execution_count": null,
      "outputs": [
        {
          "output_type": "stream",
          "name": "stdout",
          "text": [
            "(array([1, 3, 5, 7]),)\n"
          ]
        }
      ]
    },
    {
      "cell_type": "code",
      "source": [
        "#  Find the indexes where the values are odd:\n",
        "\n",
        "arr = np.array([1, 2, 3, 4, 5, 6, 7, 8])\n",
        "\n",
        "arr1 = np.where(arr%2 != 0)\n",
        "\n",
        "print(arr1)\n",
        "\n",
        "# will show index values of the answers"
      ],
      "metadata": {
        "colab": {
          "base_uri": "https://localhost:8080/"
        },
        "id": "aSjl_DYwxK5-",
        "outputId": "149bb9ee-84b5-4124-d620-be3890270be7"
      },
      "execution_count": null,
      "outputs": [
        {
          "output_type": "stream",
          "name": "stdout",
          "text": [
            "(array([0, 2, 4, 6]),)\n"
          ]
        }
      ]
    },
    {
      "cell_type": "code",
      "source": [
        "# 11.2  Search Sorted using searchsorted()\n",
        "\n",
        "# There is a method called searchsorted() which performs a binary search in the array,\n",
        "#  and returns the index where the specified value would be inserted to maintain the search order.\n",
        "\n",
        "# The searchsorted() method is assumed to be used on sorted arrays.\n",
        "\n",
        "arr = np.array([6, 7, 8, 9])\n",
        "\n",
        "arr1 = np.searchsorted(arr, 7)\n",
        "\n",
        "print(arr1)\n",
        "\n",
        "# The method starts the search from the left and returns the first index where the number 7 is no longer larger than the next value.\n",
        "#  The number 7 should be inserted on index 1 to remain the sort order."
      ],
      "metadata": {
        "colab": {
          "base_uri": "https://localhost:8080/"
        },
        "id": "SciwuLzPxfWO",
        "outputId": "47a57eb3-a8f7-463f-deaa-b4f7d2c1e1ef"
      },
      "execution_count": null,
      "outputs": [
        {
          "output_type": "stream",
          "name": "stdout",
          "text": [
            "1\n"
          ]
        }
      ]
    },
    {
      "cell_type": "code",
      "source": [
        "\n",
        "arr = np.array([6, 77, 8, 9])\n",
        "\n",
        "arr1 = np.searchsorted(arr, 77)\n",
        "\n",
        "print(arr1)\n",
        "\n",
        "# The method starts the search from the left and returns the index where the specified value would be inserted to maintain the search order.\n",
        "\n",
        "# index starts at 0 so output should be 3 but why is it showing 4 ?\n",
        "#   because it considers all the 4 values including 77 itself, then shows it should be placed at last which is index 4\n"
      ],
      "metadata": {
        "colab": {
          "base_uri": "https://localhost:8080/"
        },
        "id": "8ITTerig4Ap5",
        "outputId": "f3ae342c-943b-4ea6-8d0b-5bcbd8933603"
      },
      "execution_count": null,
      "outputs": [
        {
          "output_type": "stream",
          "name": "stdout",
          "text": [
            "4\n"
          ]
        }
      ]
    },
    {
      "cell_type": "code",
      "source": [
        "arr = np.array([5, 25, 6, 7, 8, 9, 10])\n",
        "\n",
        "arr1 = np.searchsorted(arr, 25)\n",
        "\n",
        "print(arr1)\n",
        "\n",
        "# The method starts the search from the left and returns the index where the specified value would be inserted to maintain the search order.\n",
        "\n",
        "# index starts at 0 so output should be 6 but why is it showing 7 ?\n",
        "#   because it considers all the 7 values including 25 itself, then shows it should be placed at last which is index 7\n"
      ],
      "metadata": {
        "colab": {
          "base_uri": "https://localhost:8080/"
        },
        "id": "Lj7c7_Mv4aFQ",
        "outputId": "3e20e59a-4906-45a8-94c9-98d3c77e8368"
      },
      "execution_count": null,
      "outputs": [
        {
          "output_type": "stream",
          "name": "stdout",
          "text": [
            "7\n"
          ]
        }
      ]
    },
    {
      "cell_type": "code",
      "source": [
        "# 11.3  Search From the Right Side\n",
        "\n",
        "# By default the left most index is returned, but we can give side='right' to return the right most index instead.\n",
        "\n",
        "# Finding the indexes where the value 7 should be inserted, starting from the right:\n",
        "\n",
        "arr = np.array([6, 7, 8, 9])\n",
        "\n",
        "arr1 = np.searchsorted(arr, 7, side='right')\n",
        "\n",
        "print(arr1)\n",
        "\n",
        "# The number 7 should be inserted on index 2 to remain the sort order.\n",
        "\n",
        "# The method starts the search from the right and returns the first index where the number 7 is no longer less than the next value."
      ],
      "metadata": {
        "colab": {
          "base_uri": "https://localhost:8080/"
        },
        "id": "J_g2ndzF4jPg",
        "outputId": "36bd0111-572c-42d0-cfa7-3481982c690d"
      },
      "execution_count": null,
      "outputs": [
        {
          "output_type": "stream",
          "name": "stdout",
          "text": [
            "2\n"
          ]
        }
      ]
    },
    {
      "cell_type": "code",
      "source": [
        "arr = np.array([ 6, 7, 8, 9, 1, 2, 3, 4, 5])\n",
        "\n",
        "arr1 = np.searchsorted(arr, 7, side='right')\n",
        "\n",
        "print(arr1)"
      ],
      "metadata": {
        "colab": {
          "base_uri": "https://localhost:8080/"
        },
        "id": "SQNqy4kF8AuY",
        "outputId": "dfd9b535-af6f-4e1f-a9a9-108c1111119a"
      },
      "execution_count": null,
      "outputs": [
        {
          "output_type": "stream",
          "name": "stdout",
          "text": [
            "9\n"
          ]
        }
      ]
    },
    {
      "cell_type": "code",
      "source": [
        "# 11.4  Multiple Values\n",
        "\n",
        "# To search for more than one value, use an array with the specified values.\n",
        "\n",
        "arr = np.array([1, 3, 5, 7])\n",
        "\n",
        "arr1 = np.searchsorted(arr, [2, 4, 6])\n",
        "\n",
        "print(arr1)\n",
        "\n",
        "# The return value is an array: [1 2 3] containing the three indexes where 2, 4, 6 would be inserted in the original array to maintain the order.\n"
      ],
      "metadata": {
        "colab": {
          "base_uri": "https://localhost:8080/"
        },
        "id": "fVoZbWwg8H35",
        "outputId": "72c7dfed-4f70-4d4d-c214-8e9de71cfb12"
      },
      "execution_count": null,
      "outputs": [
        {
          "output_type": "stream",
          "name": "stdout",
          "text": [
            "[1 2 3]\n"
          ]
        }
      ]
    },
    {
      "cell_type": "code",
      "source": [
        "arr = np.array([ 6, 7, 8, 9, 1, 2, 3, 4, 5])\n",
        "\n",
        "arr1 = np.searchsorted(arr, [8, 9 ,1])\n",
        "\n",
        "print(arr1)\n"
      ],
      "metadata": {
        "colab": {
          "base_uri": "https://localhost:8080/"
        },
        "id": "Q6pnJECc8o5I",
        "outputId": "0daa6cc1-fa56-4c45-8421-ec7da2e01262"
      },
      "execution_count": null,
      "outputs": [
        {
          "output_type": "stream",
          "name": "stdout",
          "text": [
            "[9 9 0]\n"
          ]
        }
      ]
    },
    {
      "cell_type": "code",
      "source": [
        "#  searchsorted() summary\n",
        "\n",
        "#  it searches the whole array & returns the index where the specified value should be placed\n",
        "#   when returning the index it consideres the current value position without neglecting it,\n",
        "#     i.e.   5, 7, 8, 1, 3, 9  in it searchsort 5,  so now it'll include 5 also while mentioning the index in the return\n",
        "#         op: 5\n"
      ],
      "metadata": {
        "id": "PKQ72gJx8tNY"
      },
      "execution_count": null,
      "outputs": []
    },
    {
      "cell_type": "code",
      "source": [
        "\n",
        "\n",
        "\n"
      ],
      "metadata": {
        "id": "ULWdgVVI-Z5p"
      },
      "execution_count": null,
      "outputs": []
    },
    {
      "cell_type": "code",
      "source": [
        "# 12  Sorting Arrays\n",
        "\n",
        "# Sorting is ordering the sequence\n",
        "\n",
        "# A Sequence can be ordered by arranging numerics or alphabets in ascending or descending order\n",
        "\n",
        "# sort() is used to sort the array\n"
      ],
      "metadata": {
        "id": "jckA8uCL-aVJ"
      },
      "execution_count": null,
      "outputs": []
    },
    {
      "cell_type": "code",
      "source": [
        "# 12.1  Sorting the array containing numerics\n",
        "\n",
        "arr = np.array([3, 5, 2, 1])\n",
        "\n",
        "print(np.sort(arr)) # This method returns a copy of the array, leaving the original array unchanged.\n",
        "print()\n",
        "\n",
        "print(arr) # original is unaffected"
      ],
      "metadata": {
        "colab": {
          "base_uri": "https://localhost:8080/"
        },
        "id": "o31C_81FbT2h",
        "outputId": "15d3b904-130d-440c-888c-970c1e96b41b"
      },
      "execution_count": null,
      "outputs": [
        {
          "output_type": "stream",
          "name": "stdout",
          "text": [
            "[1 2 3 5]\n",
            "\n",
            "[3 5 2 1]\n"
          ]
        }
      ]
    },
    {
      "cell_type": "code",
      "source": [
        "# 12.2  Sorting the array containing alphabets\n",
        "\n",
        "arr = np.array(['bbb', 'ddd', 'eee', 'aaa'])\n",
        "\n",
        "print(np.sort(arr))"
      ],
      "metadata": {
        "colab": {
          "base_uri": "https://localhost:8080/"
        },
        "id": "Qa9MjMWqcEXK",
        "outputId": "9e67b2c7-6de0-45b9-a51f-ffec0bcdf93f"
      },
      "execution_count": null,
      "outputs": [
        {
          "output_type": "stream",
          "name": "stdout",
          "text": [
            "['aaa' 'bbb' 'ddd' 'eee']\n"
          ]
        }
      ]
    },
    {
      "cell_type": "code",
      "source": [
        "# 12.3  Sorting the array containing boolean\n",
        "\n",
        "arr = np.array([False, True, False, False, True, True])\n",
        "\n",
        "print(np.sort(arr))"
      ],
      "metadata": {
        "colab": {
          "base_uri": "https://localhost:8080/"
        },
        "id": "gDlnFcgecwy5",
        "outputId": "641a42ac-f8c5-4f83-c02b-c5da8eb002be"
      },
      "execution_count": null,
      "outputs": [
        {
          "output_type": "stream",
          "name": "stdout",
          "text": [
            "[False False False  True  True  True]\n"
          ]
        }
      ]
    },
    {
      "cell_type": "code",
      "source": [
        "# 12.4  Sorting a 2-D Array\n",
        "\n",
        "# If you use the sort() method on a 2-D array, both arrays will be sorted:\n",
        "\n",
        "arr = np.array([[9, 5, 7], [3, 7, 6]])\n",
        "\n",
        "print(np.sort(arr))"
      ],
      "metadata": {
        "colab": {
          "base_uri": "https://localhost:8080/"
        },
        "id": "8d93xbNodMgp",
        "outputId": "041e2a13-c1c8-465b-95e6-3f2efeccd1aa"
      },
      "execution_count": null,
      "outputs": [
        {
          "output_type": "stream",
          "name": "stdout",
          "text": [
            "[[5 7 9]\n",
            " [3 6 7]]\n"
          ]
        }
      ]
    },
    {
      "cell_type": "code",
      "source": [
        "\n",
        "\n",
        "\n"
      ],
      "metadata": {
        "id": "l5EZEgVAdnnI"
      },
      "execution_count": null,
      "outputs": []
    },
    {
      "cell_type": "code",
      "source": [
        "# 13  Filtering Arrays\n",
        "\n",
        "\n",
        "\n"
      ],
      "metadata": {
        "id": "VvWa6ZidijUV"
      },
      "execution_count": null,
      "outputs": []
    }
  ]
}