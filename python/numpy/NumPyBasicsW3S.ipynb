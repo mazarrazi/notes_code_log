{
 "cells": [
  {
   "cell_type": "code",
   "execution_count": 265,
   "id": "f5e144b2",
   "metadata": {},
   "outputs": [],
   "source": [
    "# Chapter 1 NumPy Basics\n"
   ]
  },
  {
   "cell_type": "code",
   "execution_count": 266,
   "id": "d09ba669",
   "metadata": {},
   "outputs": [],
   "source": [
    "\n",
    "# NumPy (Numerical Python) is used for working with arrays.\n",
    "# It also has functions for working in domain of linear algebra, fourier transform, and matrices.\n",
    "\n",
    "# Why use NumPy?\n",
    "#  In Python we have lists that serve the purpose of arrays, but they are slow to process.\n",
    "#  NumPy aims to provide an array object that is up to 50x faster than traditional Python lists.\n",
    "\n",
    "#  The array object in NumPy is called ndarray, it provides a lot of supporting functions that make working with ndarray very easy.\n",
    "#  Arrays are very frequently used in data science, where speed and resources are very important.\n",
    "\n",
    "# Why is NumPy Faster Than Lists?\n",
    "#  NumPy arrays are stored at one continuous place in memory unlike lists, so processes can access and manipulate them very efficiently.\n",
    "\n",
    "#  This behavior is called locality of reference in computer science.\n",
    "\n",
    "#  This is the main reason why NumPy is faster than lists. Also it is optimized to work with latest CPU architectures."
   ]
  },
  {
   "cell_type": "code",
   "execution_count": 267,
   "id": "293a5e1c",
   "metadata": {},
   "outputs": [],
   "source": [
    "# 1 Creating Arrays\n",
    "\n",
    "# NumPy is used to work with arrays. The array object in NumPy is called ndarray.\n",
    "# We can create a NumPy ndarray object by using the array() function."
   ]
  },
  {
   "cell_type": "code",
   "execution_count": 268,
   "id": "527dcbea",
   "metadata": {},
   "outputs": [
    {
     "name": "stdout",
     "output_type": "stream",
     "text": [
      "[1 2 3 4 5]\n",
      "<class 'numpy.ndarray'>\n"
     ]
    }
   ],
   "source": [
    "# 1.1 Creating a NumPy ndarray Object\n",
    "\n",
    "import numpy as np\n",
    "\n",
    "arr = np.array([1,2,3,4,5])  # List ndarray\n",
    "\n",
    "print(arr)\n",
    "\n",
    "print(type(arr))"
   ]
  },
  {
   "cell_type": "code",
   "execution_count": 269,
   "id": "4aecb057",
   "metadata": {},
   "outputs": [
    {
     "name": "stdout",
     "output_type": "stream",
     "text": [
      "[1 2 3 4 5]\n",
      "<class 'numpy.ndarray'>\n"
     ]
    }
   ],
   "source": [
    "arr = np.array((1,2,3,4,5))  # Tuple ndarray\n",
    "\n",
    "print(arr)\n",
    "\n",
    "print(type(arr))"
   ]
  },
  {
   "cell_type": "code",
   "execution_count": 270,
   "id": "d4aa4e9c",
   "metadata": {},
   "outputs": [],
   "source": [
    "# In NumPy, whether you create an ndarray from a list or a tuple,\n",
    "# the output will be displayed with square brackets.\n",
    "# NumPy does not differentiate between lists and tuples when displaying ndarrays, and both are represented using square brackets.\n",
    "\n",
    "\n",
    "# while displaying no differences but,\n",
    "\n",
    "# A NumPy list is a mutable object, meaning that its elements can be changed after it is created.\n",
    "#  A tuple, on the other hand, is an immutable object, meaning that its elements cannot be changed after it is created.\n",
    "\n",
    "# NumPy lists are typically used to store data that needs to be modified frequently, such as a list of numbers that is being sorted or a list of strings that is being filtered.\n",
    "#  Tuples, on the other hand, are typically used to store data that does not need to be modified, such as a list of constants or a list of coordinates.\n",
    "\n",
    "# In addition to these differences in mutability, there are also some differences in how NumPy lists and tuples are stored in memory.\n",
    "# NumPy lists are stored in a contiguous block of memory, while tuples are stored in a list of pointers to the objects that they contain. This difference in storage can affect the speed with which NumPy lists and tuples can be accessed."
   ]
  },
  {
   "cell_type": "code",
   "execution_count": 271,
   "id": "d3a6ccbd",
   "metadata": {},
   "outputs": [],
   "source": [
    "# 1.2  Dimensions in Arrays\n",
    "\n",
    "#  A dimension in arrays is one level of array depth (nested arrays).\n",
    "#  nested array: are arrays that have arrays as their elements.\n",
    "\n",
    "\n",
    "# 1 -- 0d\n",
    "\n",
    "# [1, 2, 3]  -- 1d\n",
    "\n",
    "# [[1, 2, 3], [1, 2, 3]]  -- 2d\n",
    "\n",
    "# [[[1, 2, 3], [1, 2, 3]], [[1, 2, 3], [1, 2, 3]]]  -- 3d"
   ]
  },
  {
   "cell_type": "code",
   "execution_count": 272,
   "id": "39ef6e20",
   "metadata": {},
   "outputs": [
    {
     "name": "stdout",
     "output_type": "stream",
     "text": [
      "42\n"
     ]
    }
   ],
   "source": [
    "# 1.2.1  0-D arrays\n",
    "\n",
    "#  0-D arrays, or Scalars, are the elements in an array. Each value in an array is a 0-D array.\n",
    "\n",
    "arr = np.array(42)\n",
    "\n",
    "print(arr)"
   ]
  },
  {
   "cell_type": "code",
   "execution_count": 273,
   "id": "35b5f62f",
   "metadata": {},
   "outputs": [
    {
     "name": "stdout",
     "output_type": "stream",
     "text": [
      "[1 3 3 7]\n"
     ]
    }
   ],
   "source": [
    "# 1.2.2  1-D arrays\n",
    "\n",
    "#  An array that has 0-D arrays as its elements is called uni-dimensional or 1-D array.\n",
    "\n",
    "arr = np.array([1,3,3,7])\n",
    "\n",
    "print(arr)"
   ]
  },
  {
   "cell_type": "code",
   "execution_count": 274,
   "id": "7713d126",
   "metadata": {},
   "outputs": [
    {
     "name": "stdout",
     "output_type": "stream",
     "text": [
      "[[1 8 8 6]\n",
      " [1 3 3 7]]\n"
     ]
    }
   ],
   "source": [
    "# 1.2.3  2-D arrays\n",
    "\n",
    "#  An array that has 1-D arrays as its elements is called a 2-D array. \n",
    "#   These are often used to represent matrix or 2nd order tensors.\n",
    "\n",
    "#  NumPy has a whole sub module dedicated towards matrix operations called numpy.mat\n",
    "\n",
    "arr = np.array([[1,8,8,6], [1,3,3,7]])\n",
    "\n",
    "print(arr)"
   ]
  },
  {
   "cell_type": "code",
   "execution_count": 275,
   "id": "06f79292",
   "metadata": {},
   "outputs": [
    {
     "name": "stdout",
     "output_type": "stream",
     "text": [
      "[[[1 2 3 4]\n",
      "  [3 4 5 6]]\n",
      "\n",
      " [[6 7 8 9]\n",
      "  [8 9 1 2]]]\n"
     ]
    }
   ],
   "source": [
    "# 1.2.4  3-D arrays\n",
    "\n",
    "# An array that has 2-D arrays (matrices) as its elements is called 3-D array.\n",
    "#  These are often used to represent a 3rd order tensor.\n",
    "\n",
    "arr = np.array([[[1,2,3,4],[3,4,5,6]], [[6,7,8,9],[8,9,1,2]]])\n",
    "\n",
    "print(arr)"
   ]
  },
  {
   "cell_type": "code",
   "execution_count": 276,
   "id": "16c0b376",
   "metadata": {},
   "outputs": [
    {
     "name": "stdout",
     "output_type": "stream",
     "text": [
      "3\n",
      "1\n",
      "0\n",
      "2\n"
     ]
    }
   ],
   "source": [
    "# 1.2.5  Checking Number of Dimensions\n",
    "\n",
    "#  NumPy Arrays provides the ndim attribute that returns an integer that tells us how many dimensions the array have.\n",
    "\n",
    "c = np.array(43)\n",
    "\n",
    "b = np.array([1,2,3])\n",
    "\n",
    "d = np.array([[1,5,5,3], [6,8,0,9]])\n",
    "\n",
    "a = np.array([[[1,2,3],[3,4,5]], [[5,6,7],[7,8,9]]])\n",
    "\n",
    "\n",
    "print(a.ndim)  # ndim is an attribute\n",
    "print(b.ndim)\n",
    "print(c.ndim)\n",
    "print(d.ndim)"
   ]
  },
  {
   "cell_type": "code",
   "execution_count": 277,
   "id": "e5a4d0f7",
   "metadata": {},
   "outputs": [
    {
     "name": "stdout",
     "output_type": "stream",
     "text": [
      "[[[[[1 6 5 9]]]]]\n",
      "\n",
      "5\n"
     ]
    }
   ],
   "source": [
    "# 1.2.6  Higher Dimensional Arrays\n",
    "\n",
    "# An array can have any number of dimensions.\n",
    "# When the array is created, you can define the number of dimensions by using the ndmin argument.\n",
    "\n",
    "arr = np.array([1,6,5,9], ndmin = 5)  # note its ndmin not ndim\n",
    "\n",
    "print(arr)\n",
    "print()\n",
    "\n",
    "print(arr.ndim)"
   ]
  },
  {
   "cell_type": "code",
   "execution_count": 278,
   "id": "b0a2ed7f",
   "metadata": {},
   "outputs": [],
   "source": [
    "# In this array the innermost dimension (5th dim) has 4 elements, \n",
    "#  the 4th dim has 1 element that is the vector, \n",
    "#  the 3rd dim has 1 element that is the matrix with the vector, \n",
    "#  the 2nd dim has 1 element that is 3D array and \n",
    "#  the 1st dim has 1 element that is a 4D array.\n",
    "\n",
    "\n",
    "# Another way to explain the same,\n",
    "\n",
    "# The outermost dimension (1st dim) is represented by a single pair of square brackets [ ].\n",
    "\n",
    "# The 2nd dimension (2nd dim) contains a 3D array. This is represented by an extra pair of square brackets, [[ ]], added to the outermost dimension. So, we now have [[ ]].\n",
    "\n",
    "# The 3rd dimension (3rd dim) contains a matrix (2D array) that has a vector (1D array) inside it. We add another pair of square brackets for the matrix, resulting in [[[ ]]].\n",
    "\n",
    "# The 4th dimension (4th dim) contains a 3D array, which means we add another pair of square brackets to enclose it within the 3rd dimension: [[[[ ]]]].\n",
    "\n",
    "# Finally, the innermost dimension (5th dim) contains a vector with elements [1, 5, 6, 9]. We add one more pair of square brackets to enclose it within the 4th dimension: [[[[[1 5 6 9]]]]].\n",
    "\n",
    "\n",
    "# a breakdown of the dimensions:\n",
    "\n",
    "# 1st dimension (outermost): 4D array.\n",
    "# 2nd dimension: 3D array.\n",
    "# 3rd dimension: Matrix (2D array) with a vector (1D array) inside.\n",
    "# 4th dimension: 3D array.\n",
    "# 5th dimension (innermost): Vector (1D array) with elements [1, 5, 6, 9].\n",
    "# This can be a bit abstract to visualize, but it demonstrates how NumPy allows you to create multi-dimensional arrays of various shapes and sizes.\n"
   ]
  },
  {
   "cell_type": "code",
   "execution_count": null,
   "id": "e2aaf373",
   "metadata": {},
   "outputs": [],
   "source": [
    "\n"
   ]
  },
  {
   "cell_type": "code",
   "execution_count": 279,
   "id": "120d7fd6",
   "metadata": {},
   "outputs": [],
   "source": [
    "# 2  Array Indexing\n",
    "\n",
    "# As usual array elements can be accessed by referring to its index number. Index starts with 0"
   ]
  },
  {
   "cell_type": "code",
   "execution_count": 280,
   "id": "daec2efb",
   "metadata": {},
   "outputs": [
    {
     "name": "stdout",
     "output_type": "stream",
     "text": [
      "1\n",
      "\n",
      "4\n"
     ]
    }
   ],
   "source": [
    "# 2.1  Accessing Array Elements\n",
    "\n",
    "arr = np.array([1,2,3,4,5])\n",
    "\n",
    "print(arr[0])\n",
    "print()\n",
    "\n",
    "print(arr[3])"
   ]
  },
  {
   "cell_type": "code",
   "execution_count": 281,
   "id": "4733133c",
   "metadata": {},
   "outputs": [
    {
     "name": "stdout",
     "output_type": "stream",
     "text": [
      "7\n"
     ]
    }
   ],
   "source": [
    "# 2.2  Accessing array elements and Adding them\n",
    "\n",
    "arr = np.array([1,2,3,4,5])\n",
    "\n",
    "print(arr[2] + arr[3])"
   ]
  },
  {
   "cell_type": "code",
   "execution_count": 282,
   "id": "e0f735b8",
   "metadata": {},
   "outputs": [
    {
     "name": "stdout",
     "output_type": "stream",
     "text": [
      "4\n",
      "\n",
      "33\n"
     ]
    }
   ],
   "source": [
    "# 2.3  Accessing 2-D arrays\n",
    "\n",
    "arr = np.array([[1,2,3,4,5],[11,22,33,44,55]])\n",
    "\n",
    "print(arr[0,3])\n",
    "print()\n",
    "\n",
    "print(arr[1,2])"
   ]
  },
  {
   "cell_type": "code",
   "execution_count": 283,
   "id": "6b06df2a",
   "metadata": {},
   "outputs": [
    {
     "name": "stdout",
     "output_type": "stream",
     "text": [
      "1\n",
      "\n",
      "5\n",
      "\n",
      "11\n",
      "\n",
      "55\n",
      "\n"
     ]
    }
   ],
   "source": [
    "# 2.4  Accessing 3-D arrays\n",
    "\n",
    "arr = np.array([[[1,2,3,4],[5,6,7,8]], [[11,22,33,44],[55,66,77,88]]])\n",
    "\n",
    "print(arr[0,0,0])\n",
    "print()\n",
    "\n",
    "\n",
    "print(arr[0,1,0])\n",
    "print()\n",
    "\n",
    "\n",
    "print(arr[1,0,0])\n",
    "print()\n",
    "\n",
    "\n",
    "print(arr[1,1,0])\n",
    "print()\n"
   ]
  },
  {
   "cell_type": "code",
   "execution_count": 284,
   "id": "128a047c",
   "metadata": {},
   "outputs": [
    {
     "name": "stdout",
     "output_type": "stream",
     "text": [
      "6\n"
     ]
    }
   ],
   "source": [
    "arr = np.array([[[1, 2, 3], [4, 5, 6]], [[7, 8, 9], [10, 11, 12]]])\n",
    "\n",
    "print(arr[0, 1, 2])"
   ]
  },
  {
   "cell_type": "code",
   "execution_count": 285,
   "id": "cdf880f7",
   "metadata": {},
   "outputs": [],
   "source": [
    "# arr[0, 1, 2] prints the value 6.\n",
    "\n",
    "# And this is why:\n",
    "\n",
    "# The first number represents the first dimension, which contains two arrays:\n",
    "# [[1, 2, 3], [4, 5, 6]]\n",
    "# and:\n",
    "# [[7, 8, 9], [10, 11, 12]]\n",
    "# Since we selected 0, we are left with the first array:\n",
    "# [[1, 2, 3], [4, 5, 6]]\n",
    "\n",
    "# The second number represents the second dimension, which also contains two arrays:\n",
    "# [1, 2, 3]\n",
    "# and:\n",
    "# [4, 5, 6]\n",
    "# Since we selected 1, we are left with the second array:\n",
    "# [4, 5, 6]\n",
    "\n",
    "# The third number represents the third dimension, which contains three values:\n",
    "# 4\n",
    "# 5\n",
    "# 6\n",
    "# Since we selected 2, we end up with the third value:\n",
    "# 6"
   ]
  },
  {
   "cell_type": "code",
   "execution_count": 286,
   "id": "3715617a",
   "metadata": {},
   "outputs": [
    {
     "name": "stdout",
     "output_type": "stream",
     "text": [
      "10\n",
      "1\n"
     ]
    }
   ],
   "source": [
    "# 2.5  Negative Indexing\n",
    "\n",
    "arr = np.array([[1,2,3,4,5], [6,7,8,9,10]])\n",
    "\n",
    "print(arr[1, -1])\n",
    "\n",
    "print(arr[0, -5])"
   ]
  },
  {
   "cell_type": "code",
   "execution_count": null,
   "id": "718de4e3",
   "metadata": {},
   "outputs": [],
   "source": [
    "\n",
    "\n",
    "\n"
   ]
  },
  {
   "cell_type": "code",
   "execution_count": 287,
   "id": "d973b188",
   "metadata": {},
   "outputs": [],
   "source": [
    "# 3  Slicing\n",
    "\n",
    "# Slicing in python means taking elements from one given index to another given index.\n",
    "\n",
    "# We pass slice instead of index like this: [start:end].\n",
    "# We can also define the step, like this: [start:end:step].\n"
   ]
  },
  {
   "cell_type": "code",
   "execution_count": 288,
   "id": "b4f7ad5d",
   "metadata": {},
   "outputs": [
    {
     "name": "stdout",
     "output_type": "stream",
     "text": [
      "[0 1 2 3 4 5]\n",
      "\n",
      "[1 2 3 4]\n"
     ]
    }
   ],
   "source": [
    "# 3.1  with start & with stop\n",
    "\n",
    "arr = np.array([0,1,2,3,4,5,6,7])\n",
    "\n",
    "print(arr[0 : 6])\n",
    "print()\n",
    "\n",
    "print(arr[1 : 5])"
   ]
  },
  {
   "cell_type": "code",
   "execution_count": 289,
   "id": "15c9ccc3",
   "metadata": {},
   "outputs": [
    {
     "name": "stdout",
     "output_type": "stream",
     "text": [
      "[0 1 2 3 4 5 6 7]\n"
     ]
    }
   ],
   "source": [
    "#  with start & without stop\n",
    "\n",
    "arr = np.array([0,1,2,3,4,5,6,7])\n",
    "\n",
    "print(arr[0 :])"
   ]
  },
  {
   "cell_type": "code",
   "execution_count": 290,
   "id": "96fa75c2",
   "metadata": {},
   "outputs": [
    {
     "name": "stdout",
     "output_type": "stream",
     "text": [
      "[0 1 2 3 4 5 6]\n"
     ]
    }
   ],
   "source": [
    "#  without start & with stop\n",
    "\n",
    "arr = np.array([0,1,2,3,4,5,6,7])\n",
    "\n",
    "print(arr[ : 7])"
   ]
  },
  {
   "cell_type": "code",
   "execution_count": 291,
   "id": "6cc27684",
   "metadata": {},
   "outputs": [
    {
     "name": "stdout",
     "output_type": "stream",
     "text": [
      "[5 6]\n",
      "\n",
      "[]\n",
      "\n",
      "[3 4]\n",
      "\n",
      "[]\n"
     ]
    }
   ],
   "source": [
    "# 3.2  Negative slicing\n",
    "\n",
    "arr = np.array([1, 2, 3, 4, 5, 6, 7])\n",
    "\n",
    "print(arr[-3 : -1])\n",
    "print()\n",
    "\n",
    "print(arr[-1 : -3])  # cannot print in reverse\n",
    "print()\n",
    "\n",
    "print(arr[-5 : -3])\n",
    "print()\n",
    "\n",
    "print(arr[-3 : -5])  # cannot print in reverse"
   ]
  },
  {
   "cell_type": "code",
   "execution_count": 292,
   "id": "ab3fdc67",
   "metadata": {},
   "outputs": [
    {
     "name": "stdout",
     "output_type": "stream",
     "text": [
      "[0 2 4]\n"
     ]
    }
   ],
   "source": [
    "# 3.3  Step\n",
    "\n",
    "arr = np.array([0, 1, 2, 3, 4, 5, 6, 7])\n",
    "\n",
    "print(arr[0:5:2])"
   ]
  },
  {
   "cell_type": "code",
   "execution_count": 293,
   "id": "6311c8ea",
   "metadata": {},
   "outputs": [
    {
     "name": "stdout",
     "output_type": "stream",
     "text": [
      "[1 2 3 4]\n",
      "\n",
      "[ 7  8  9 10]\n"
     ]
    }
   ],
   "source": [
    "# 3.4  Slicing 2-D Arrays\n",
    "\n",
    "arr = np.array([[0, 1, 2, 3, 4, 5], [6, 7, 8, 9, 10, 11]])\n",
    "\n",
    "print(arr[0, 1 : 5])\n",
    "print()\n",
    "\n",
    "print(arr[1, 1 : 5])"
   ]
  },
  {
   "cell_type": "code",
   "execution_count": 294,
   "id": "45f89c8e",
   "metadata": {},
   "outputs": [
    {
     "name": "stdout",
     "output_type": "stream",
     "text": [
      "[1 3]\n",
      "\n",
      "[7 9]\n"
     ]
    }
   ],
   "source": [
    "#  same but with step\n",
    "\n",
    "print(arr[0, 1 : 5 : 2])\n",
    "print()\n",
    "\n",
    "print(arr[1, 1 : 5 : 2])"
   ]
  },
  {
   "cell_type": "code",
   "execution_count": null,
   "id": "316d996e",
   "metadata": {},
   "outputs": [],
   "source": [
    "\n",
    "\n",
    "\n"
   ]
  },
  {
   "cell_type": "code",
   "execution_count": 295,
   "id": "fb5c3e5e",
   "metadata": {},
   "outputs": [],
   "source": [
    "# 4  Data Types\n",
    "\n",
    "# Data Types in Python\n",
    "\n",
    "# By default Python have these data types:\n",
    "# strings - used to represent text data, the text is given under quote marks. e.g. \"ABCD\"\n",
    "# integer - used to represent integer numbers. e.g. -1, -2, -3\n",
    "# float - used to represent real numbers. e.g. 1.2, 42.42\n",
    "# boolean - used to represent True or False.\n",
    "# complex - used to represent complex numbers. e.g. 1.0 + 2.0j, 1.5 + 2.5j\n",
    "\n",
    "\n",
    "# Data Types in NumPy\n",
    "\n",
    "# NumPy has some extra data types, and refer to data types with one character, like i for integers, u for unsigned integers etc.\n",
    "# Below is a list of all data types in NumPy and the characters used to represent them.\n",
    "# i - integer\n",
    "# b - boolean\n",
    "# u - unsigned integer\n",
    "# f - float\n",
    "# c - complex float\n",
    "# m - timedelta\n",
    "# M - datetime\n",
    "# O - object\n",
    "# S - string\n",
    "# U - unicode string\n",
    "# V - fixed chunk of memory for other type ( void )\n",
    "\n",
    "# For i, u, f, S and U we can define size as well.\n"
   ]
  },
  {
   "cell_type": "code",
   "execution_count": 296,
   "id": "e52d1d58",
   "metadata": {},
   "outputs": [
    {
     "name": "stdout",
     "output_type": "stream",
     "text": [
      "int32\n"
     ]
    }
   ],
   "source": [
    "# 4.1  Checking Datatype\n",
    "\n",
    "arr = np.array([1,2,3,4,5])\n",
    "\n",
    "print(arr.dtype) # arr.dtype is an attribute"
   ]
  },
  {
   "cell_type": "code",
   "execution_count": 297,
   "id": "c03f2eb7",
   "metadata": {},
   "outputs": [
    {
     "name": "stdout",
     "output_type": "stream",
     "text": [
      "<U3\n",
      "\n",
      "<U4\n",
      "\n",
      "<U5\n"
     ]
    }
   ],
   "source": [
    "arr = np.array(['aaa', 'bbb', 'ccc', 'ddd'])\n",
    "\n",
    "print(arr.dtype)\n",
    "\n",
    "print()\n",
    "\n",
    "arr = np.array(['aaa', 'bbb', 'ccc', 'dddd'])\n",
    "\n",
    "print(arr.dtype)\n",
    "\n",
    "print()\n",
    "\n",
    "arr = np.array(['aaa', 'bbb', 'ccccc', 'ddd'])\n",
    "\n",
    "print(arr.dtype)\n",
    "\n",
    "# the dtype attribute reflects the length of the longest string in the array, padded with extra characters if needed.\n",
    "\n",
    "# If the longest string in the array has a length of 5 characters, NumPy will ensure that all other strings in the array are padded with spaces to have a length of 5 characters as well.\n",
    "#  This padding ensures that all elements of the array have consistent dimensions,\n",
    "#   which is a common requirement when working with arrays of strings in numerical computing and data analysis.\n"
   ]
  },
  {
   "cell_type": "code",
   "execution_count": 298,
   "id": "4e79f5fa",
   "metadata": {},
   "outputs": [],
   "source": [
    "# 4.2  Creating Arrays With a Defined Data Type\n",
    "\n",
    "#  We use the array() function to create arrays,\n",
    "#   this function can take an optional argument: dtype\n",
    "#    dtype allows us to define the expected data type of the array elements\n",
    "\n",
    "#  For i, u, f, S and U we can define size as well.\n"
   ]
  },
  {
   "cell_type": "code",
   "execution_count": 299,
   "id": "f5878b59",
   "metadata": {},
   "outputs": [
    {
     "name": "stdout",
     "output_type": "stream",
     "text": [
      "[b'1' b'2' b'3' b'4' b'5']\n",
      "|S1\n",
      "\n",
      "[b'11' b'22' b'33' b'44' b'55']\n",
      "|S2\n"
     ]
    }
   ],
   "source": [
    "arr = np.array([1, 2, 3, 4, 5], dtype = 'S') # The 'S' dtype instructs NumPy to interpret the elements of the array as strings\n",
    "\n",
    "print(arr)\n",
    "print(arr.dtype) # each string element has max length of 1 so S1\n",
    "\n",
    "print()\n",
    "\n",
    "arr = np.array([11, 22, 33, 44, 55], dtype = 'S')\n",
    "\n",
    "print(arr)\n",
    "print(arr.dtype) # each string element has max length of 2 so S2"
   ]
  },
  {
   "cell_type": "code",
   "execution_count": 300,
   "id": "ca43f8f7",
   "metadata": {},
   "outputs": [
    {
     "name": "stdout",
     "output_type": "stream",
     "text": [
      "[  1  22 333   4]\n",
      "int32\n"
     ]
    }
   ],
   "source": [
    "# 4.2  Creating Arrays With a Defined Data Type & Defined Size\n",
    "\n",
    "#  For i, u, f, S and U we can define size as well.\n",
    "\n",
    "arr = np.array([1, 22, 333, 4], dtype = 'i4')  #  'i4', which stands for a 4-byte (32-bit) integer\n",
    "\n",
    "print(arr)\n",
    "\n",
    "print(arr.dtype)\n",
    "\n",
    "#  even each value has less than 4 bytes they'll be printed as 4 bytes\n",
    "#   1 has 1 bytes but it'll be considered as 4 bytes"
   ]
  },
  {
   "cell_type": "code",
   "execution_count": 301,
   "id": "6ccb891b",
   "metadata": {},
   "outputs": [
    {
     "name": "stdout",
     "output_type": "stream",
     "text": [
      "[1 2 3 4]\n",
      "int32\n"
     ]
    }
   ],
   "source": [
    "arr = np.array([1, 2, 3, 4], dtype='i4')\n",
    "\n",
    "print(arr)\n",
    "print(arr.dtype)"
   ]
  },
  {
   "cell_type": "code",
   "execution_count": 302,
   "id": "3f60a6d2",
   "metadata": {},
   "outputs": [],
   "source": [
    "#  What if a Value Can Not Be Converted?\n",
    "\n",
    "# arr = np.array(['a', '2', '3'], dtype = 'i') # A non integer string like 'a' can not be converted to integer (will raise an error)\n",
    "\n",
    "# print(arr)\n",
    "\n",
    "# print(arr.dtype)\n",
    "\n",
    "# ValueError: In Python ValueError is raised when the type of passed argument to a function is unexpected/incorrect."
   ]
  },
  {
   "cell_type": "code",
   "execution_count": 303,
   "id": "423a2254",
   "metadata": {},
   "outputs": [],
   "source": [
    "# 4.3  Converting Data Type on Existing Arrays\n",
    "\n",
    "#  The best way to change the data type of an existing array, is to make a copy of the array with the astype() method.\n",
    "\n",
    "#   The astype() function creates a copy of the array, and allows you to specify the data type as a parameter.\n",
    "#    The data type can be specified using a string, like 'f' for float, 'i' for integer etc.\n",
    "#     or you can use the data type directly like float for float and int for integer."
   ]
  },
  {
   "cell_type": "code",
   "execution_count": 304,
   "id": "12a1d17d",
   "metadata": {},
   "outputs": [
    {
     "name": "stdout",
     "output_type": "stream",
     "text": [
      "[1.1 2.2 3.3]\n",
      "float64\n",
      "\n",
      "[1 2 3]\n",
      "int32\n"
     ]
    }
   ],
   "source": [
    "# using .astype('i')\n",
    "\n",
    "arr = np.array([1.1, 2.2, 3.3])\n",
    "\n",
    "print(arr)\n",
    "print(arr.dtype)\n",
    "\n",
    "print()\n",
    "\n",
    "arr1 = arr.astype('i') # 'i' & int are same\n",
    "\n",
    "print(arr1)\n",
    "print(arr1.dtype)"
   ]
  },
  {
   "cell_type": "code",
   "execution_count": 305,
   "id": "97c4e77b",
   "metadata": {},
   "outputs": [
    {
     "name": "stdout",
     "output_type": "stream",
     "text": [
      "[ True  True  True False]\n",
      "bool\n"
     ]
    }
   ],
   "source": [
    "# using .astype(bool)\n",
    "\n",
    "arr = np.array([2, 3, 7, 0])\n",
    "\n",
    "arr1 = arr.astype('bool')\n",
    "\n",
    "print(arr1)\n",
    "print(arr1.dtype)"
   ]
  },
  {
   "cell_type": "code",
   "execution_count": null,
   "id": "550d1fe4",
   "metadata": {},
   "outputs": [],
   "source": [
    "\n",
    "\n",
    "\n"
   ]
  },
  {
   "cell_type": "code",
   "execution_count": 306,
   "id": "42325e23",
   "metadata": {},
   "outputs": [],
   "source": [
    "# 5  NumPy Array Copy vs View\n",
    "\n",
    "# The Difference Between Copy and View\n",
    "\n",
    "# The main difference between a copy and a view of an array is that the copy is a new array, \n",
    "#  and the view is just a view of the original array.\n",
    "\n",
    "# The copy owns the data and any changes made to the copy will not affect original array, \n",
    "#  and any changes made to the original array will not affect the copy.\n",
    "\n",
    "# The view does not own the data and any changes made to the view will affect the original array, \n",
    "#  and any changes made to the original array will affect the view."
   ]
  },
  {
   "cell_type": "code",
   "execution_count": 307,
   "id": "d9096606",
   "metadata": {},
   "outputs": [
    {
     "name": "stdout",
     "output_type": "stream",
     "text": [
      "[1 2 3 4 5]\n"
     ]
    }
   ],
   "source": [
    "# 5.1  Copy \n",
    "\n",
    "arr = np.array([1, 2, 3, 4, 5 ])\n",
    "\n",
    "arrcopy = arr.copy()\n",
    "\n",
    "print(arrcopy)"
   ]
  },
  {
   "cell_type": "code",
   "execution_count": 308,
   "id": "955d8878",
   "metadata": {},
   "outputs": [
    {
     "name": "stdout",
     "output_type": "stream",
     "text": [
      "[1 2 3 4 5]\n"
     ]
    }
   ],
   "source": [
    "# 5.2  View\n",
    "\n",
    "arr = np.array([1, 2, 3, 4, 5])\n",
    "\n",
    "arrview = arr.view()\n",
    "\n",
    "print(arrview)"
   ]
  },
  {
   "cell_type": "code",
   "execution_count": 309,
   "id": "eca94aaa",
   "metadata": {},
   "outputs": [
    {
     "name": "stdout",
     "output_type": "stream",
     "text": [
      "[1 2 8 4 5]\n",
      "\n",
      "[1 2 3 4 5]\n"
     ]
    }
   ],
   "source": [
    "# 5.3  Making Changes in Copy\n",
    "\n",
    "# copy won't affect original data\n",
    "\n",
    "arr = np.array([1, 2, 3, 4, 5 ])\n",
    "\n",
    "arrcopy = arr.copy()\n",
    "\n",
    "arrcopy[2] = 8\n",
    "\n",
    "print(arrcopy)\n",
    "print()\n",
    "\n",
    "print(arr)"
   ]
  },
  {
   "cell_type": "code",
   "execution_count": 310,
   "id": "8d58d7fb",
   "metadata": {},
   "outputs": [
    {
     "name": "stdout",
     "output_type": "stream",
     "text": [
      "[1 2 8 4 5]\n",
      "\n",
      "[1 2 8 4 5]\n"
     ]
    }
   ],
   "source": [
    "# 5.3  Making Changes in View\n",
    "\n",
    "# View will affect original data\n",
    "\n",
    "arr = np.array([1, 2, 3, 4, 5 ])\n",
    "\n",
    "arrview = arr.view()\n",
    "\n",
    "arrview[2] = 8\n",
    "\n",
    "print(arrcopy)\n",
    "print()\n",
    "\n",
    "print(arr)"
   ]
  },
  {
   "cell_type": "code",
   "execution_count": 311,
   "id": "472f605e",
   "metadata": {},
   "outputs": [
    {
     "name": "stdout",
     "output_type": "stream",
     "text": [
      "None\n",
      "[1 2 3 4 5]\n"
     ]
    }
   ],
   "source": [
    "# 5.4  Check if Array Owns its Data using .base\n",
    "\n",
    "#  As mentioned above, copies owns the data, and views does not own the data, but how can we check this?\n",
    "\n",
    "#   Every NumPy array has the attribute base that returns None if the array owns the data.\n",
    "#    Otherwise, the base attribute refers to the original object.\n",
    "\n",
    "arr = np.array([1, 2, 3, 4, 5])\n",
    "\n",
    "arrcopy = arr.copy()\n",
    "arrview = arr.view()\n",
    "\n",
    "print(arrcopy.base)\n",
    "\n",
    "print(arrview.base) # view doesn't own its data so it returns the original data"
   ]
  },
  {
   "cell_type": "code",
   "execution_count": null,
   "id": "41f7bbda",
   "metadata": {},
   "outputs": [],
   "source": [
    "\n",
    "\n",
    "\n"
   ]
  },
  {
   "cell_type": "code",
   "execution_count": 312,
   "id": "1472d1a1",
   "metadata": {},
   "outputs": [],
   "source": [
    "# 6  NumPy Array Shape\n",
    "\n",
    "# NumPy arrays have an attribute called shape that returns a tuple with each index having the number of corresponding elements.\n",
    "\n",
    "# The shape attribute in NumPy is used to determine the dimensions or shape of a NumPy array. \n",
    "#  It returns a tuple that specifies the number of elements along each axis (dimension) of the array. \n",
    "#   The length of the tuple corresponds to the number of dimensions in the array."
   ]
  },
  {
   "cell_type": "code",
   "execution_count": 313,
   "id": "2084dcbc",
   "metadata": {},
   "outputs": [
    {
     "name": "stdout",
     "output_type": "stream",
     "text": [
      "(2, 4)\n"
     ]
    }
   ],
   "source": [
    "# 6.1  2-D array shape\n",
    "\n",
    "arr = np.array([[1, 2, 3, 4], [5, 6, 7, 8]])\n",
    "\n",
    "print(arr.shape) \n",
    "\n",
    "#  (2, 4), which means that the array has 2 dimensions, \n",
    "#   where the first dimension has 2 elements and the second has 4."
   ]
  },
  {
   "cell_type": "code",
   "execution_count": 314,
   "id": "801fefa0",
   "metadata": {},
   "outputs": [
    {
     "name": "stdout",
     "output_type": "stream",
     "text": [
      "[[[[[1 2 3 4 5]]]]]\n",
      "\n",
      "(1, 1, 1, 1, 5)\n"
     ]
    }
   ],
   "source": [
    "# 6.2  5-D array shape\n",
    "\n",
    "arr = np.array([1,2,3,4,5], ndmin = 5)\n",
    "\n",
    "print(arr)\n",
    "print()\n",
    "\n",
    "print(arr.shape)"
   ]
  },
  {
   "cell_type": "code",
   "execution_count": 315,
   "id": "e39bbc32",
   "metadata": {},
   "outputs": [],
   "source": [
    "# What does the shape tuple represent?\n",
    "\n",
    "# Integers at every index tells about the number of elements the corresponding dimension has.\n",
    "#  In the example above at index-4 we have value 4, so we can say that 5th ( 4 + 1 th) dimension has 4 elements."
   ]
  },
  {
   "cell_type": "code",
   "execution_count": null,
   "id": "0a19d93c",
   "metadata": {},
   "outputs": [],
   "source": [
    "\n",
    "\n",
    "\n"
   ]
  },
  {
   "cell_type": "code",
   "execution_count": 316,
   "id": "c61beeed",
   "metadata": {},
   "outputs": [],
   "source": [
    "# 7   Array Reshaping\n",
    "\n",
    "# Reshaping means changing the shape of an array.\n",
    "\n",
    "# The shape of an array is the number of elements in each dimension.\n",
    "\n",
    "# By reshaping we can add or remove dimensions or change number of elements in each dimension.\n"
   ]
  },
  {
   "cell_type": "code",
   "execution_count": 317,
   "id": "435c30c3",
   "metadata": {},
   "outputs": [
    {
     "name": "stdout",
     "output_type": "stream",
     "text": [
      "[[ 1  2  3]\n",
      " [ 4  5  6]\n",
      " [ 7  8  9]\n",
      " [10 11 12]]\n",
      "\n",
      "[[ 1  2]\n",
      " [ 3  4]\n",
      " [ 5  6]\n",
      " [ 7  8]\n",
      " [ 9 10]\n",
      " [11 12]]\n",
      "\n",
      "[[ 1  2  3  4  5  6]\n",
      " [ 7  8  9 10 11 12]]\n",
      "\n"
     ]
    }
   ],
   "source": [
    "# 7.1  Reshaping From 1-D to 2-D\n",
    "\n",
    "# Converting 1-D array with 12 elements into a 2-D array.\n",
    "\n",
    "arr = np.array([1, 2, 3, 4, 5, 6, 7, 8, 9, 10, 11, 12])\n",
    "\n",
    "arr1 = arr.reshape(4,3) \n",
    "\n",
    "arr2 = arr.reshape(6,2) \n",
    "\n",
    "arr3 = arr.reshape(2,6)\n",
    "\n",
    "print(arr1) # The outermost dimension will have 4 arrays, each with 3 elements\n",
    "print()\n",
    "\n",
    "print(arr2)\n",
    "print()\n",
    "\n",
    "print(arr3)\n",
    "print()\n",
    "\n",
    "# the product of the dimensions of the reshaped array should be equal to the product of the dimensions of the original array"
   ]
  },
  {
   "cell_type": "code",
   "execution_count": 318,
   "id": "2e458f71",
   "metadata": {},
   "outputs": [
    {
     "name": "stdout",
     "output_type": "stream",
     "text": [
      "[[[ 1  2]\n",
      "  [ 3  4]\n",
      "  [ 5  6]]\n",
      "\n",
      " [[ 7  8]\n",
      "  [ 9 10]\n",
      "  [11 12]]]\n",
      "\n",
      "\n",
      "[[[ 1  2  3  4  5  6]]\n",
      "\n",
      " [[ 7  8  9 10 11 12]]]\n",
      "\n",
      "\n",
      "[[[ 1  2  3]\n",
      "  [ 4  5  6]\n",
      "  [ 7  8  9]\n",
      "  [10 11 12]]]\n",
      "\n",
      "\n",
      "[[[ 1  2  3]]\n",
      "\n",
      " [[ 4  5  6]]\n",
      "\n",
      " [[ 7  8  9]]\n",
      "\n",
      " [[10 11 12]]]\n"
     ]
    }
   ],
   "source": [
    "# 7.2  Reshaping From 1-D to 3-D\n",
    "\n",
    "# Converting 1-D array with 12 elements into a 3-D array.\n",
    "\n",
    "arr = np.array([1, 2, 3, 4, 5, 6, 7, 8, 9, 10, 11, 12])\n",
    "\n",
    "arr1 = arr.reshape(2, 3, 2) # The outermost dimension will have 2 arrays that contains 3 arrays, each with 2 elements\n",
    " \n",
    "arr2 = arr.reshape(2, 1, 6)\n",
    "\n",
    "arr3 = arr.reshape(1, 4, 3)\n",
    "\n",
    "arr4 = arr.reshape(4, 1, 3)\n",
    "\n",
    "print(arr1)\n",
    "print()\n",
    "print()\n",
    "\n",
    "print(arr2)\n",
    "print()\n",
    "print()\n",
    "\n",
    "print(arr3)\n",
    "print()\n",
    "print()\n",
    "\n",
    "print(arr4)"
   ]
  },
  {
   "cell_type": "code",
   "execution_count": 319,
   "id": "0969d5a3",
   "metadata": {},
   "outputs": [],
   "source": [
    "# 7.3 Can we Reshape into any shape?\n",
    "\n",
    "# Trying converting 1D array with 8 elements to a 2D array with 3 elements in each dimension\n",
    "\n",
    "# arr = np.array([1, 2, 3, 4, 5, 6, 7, 8])\n",
    "\n",
    "# arr1 = arr.reshape(3, 3) # 3x3 = 9 elements but we have only 8 elements\n",
    "\n",
    "# print(arr1)\n",
    "\n",
    "\n",
    "# We can reshape as long as the elements required for reshaping are equal in both shapes.\n",
    "\n",
    "# We can reshape an 8 elements 1D array into 4 elements in 2 rows 2D array \n",
    "#  but we cannot reshape it into a 3 elements 3 rows 2D array as that would require 3x3 = 9 elements."
   ]
  },
  {
   "cell_type": "code",
   "execution_count": 320,
   "id": "725a0f2a",
   "metadata": {},
   "outputs": [
    {
     "name": "stdout",
     "output_type": "stream",
     "text": [
      "[1 2 3 4 5 6]\n"
     ]
    }
   ],
   "source": [
    "# 7.4  Flattening the arrays\n",
    "\n",
    "# Flattening array means converting a multidimensional array into a 1D array.\n",
    "#  We can use reshape(-1) to do this.\n",
    "\n",
    "arr = np.array([[1, 2, 3], [4, 5, 6]])\n",
    "\n",
    "arr1 = arr.reshape(-1)\n",
    "\n",
    "print(arr1)\n",
    "\n",
    "# Note: There are a lot of functions for changing the shapes of arrays in numpy flatten, ravel \n",
    "# and also for rearranging the elements rot90, flip, fliplr, flipud etc. These fall under Intermediate to Advanced section of numpy."
   ]
  },
  {
   "cell_type": "code",
   "execution_count": 321,
   "id": "b237cf81",
   "metadata": {},
   "outputs": [
    {
     "name": "stdout",
     "output_type": "stream",
     "text": [
      "[[[1 2]\n",
      "  [3 4]]\n",
      "\n",
      " [[5 6]\n",
      "  [7 8]]]\n"
     ]
    }
   ],
   "source": [
    "# 7.5  Unknown Dimension\n",
    "\n",
    "# You are allowed to have one \"unknown\" dimension.\n",
    "# Meaning that you do not have to specify an exact number for one of the dimensions in the reshape method.\n",
    "# Pass -1 as the value, and NumPy will calculate this number for you.\n",
    "\n",
    "arr = np.array([1, 2, 3, 4, 5, 6, 7, 8])\n",
    "\n",
    "arr1 = arr.reshape(2, 2, -1)\n",
    "\n",
    "print(arr1)\n",
    "\n",
    "#  Note: We can not pass -1 to more than one dimension."
   ]
  },
  {
   "cell_type": "code",
   "execution_count": 322,
   "id": "9a6f4b05",
   "metadata": {},
   "outputs": [
    {
     "name": "stdout",
     "output_type": "stream",
     "text": [
      "[[1 2]\n",
      " [3 4]\n",
      " [5 6]\n",
      " [7 8]]\n",
      "\n",
      "[1 2 3 4 5 6 7 8]\n"
     ]
    }
   ],
   "source": [
    "# 7.6  Returns Copy or View?\n",
    "\n",
    "arr = np.array([1, 2, 3, 4, 5, 6, 7, 8])\n",
    "\n",
    "arr1 = arr.reshape(4,2)\n",
    "\n",
    "print(arr1)\n",
    "print()\n",
    "\n",
    "print(arr1.base)"
   ]
  },
  {
   "cell_type": "code",
   "execution_count": 323,
   "id": "839aafd7",
   "metadata": {},
   "outputs": [
    {
     "name": "stdout",
     "output_type": "stream",
     "text": [
      "[1 2 3 4 5 6 7 8]\n"
     ]
    }
   ],
   "source": [
    "arr = np.array([1, 2, 3, 4, 5, 6, 7, 8])\n",
    "\n",
    "print(arr.reshape(4,2).base)\n"
   ]
  },
  {
   "cell_type": "code",
   "execution_count": null,
   "id": "25e60557",
   "metadata": {},
   "outputs": [],
   "source": [
    "\n",
    "\n",
    "\n"
   ]
  },
  {
   "cell_type": "code",
   "execution_count": 324,
   "id": "813ba29f",
   "metadata": {},
   "outputs": [],
   "source": [
    "# 8  Iterating Arrays\n",
    "\n",
    "# Iterating means going through elements one by one.\n",
    "#  As we deal with multi-dimensional arrays in numpy, we can do this using basic for loop of python.\n",
    "\n",
    "# If we iterate on a n-D array it will go through n-1th dimension one by one."
   ]
  },
  {
   "cell_type": "code",
   "execution_count": 325,
   "id": "88624f60",
   "metadata": {},
   "outputs": [
    {
     "name": "stdout",
     "output_type": "stream",
     "text": [
      "1\n",
      "2\n",
      "3\n",
      "4\n",
      "5\n"
     ]
    }
   ],
   "source": [
    "# 8.1  Iterating 1-D array\n",
    "\n",
    "arr = np.array([1, 2, 3, 4, 5])\n",
    "\n",
    "for x in arr:  # iterates over each element\n",
    "    print(x)"
   ]
  },
  {
   "cell_type": "code",
   "execution_count": 326,
   "id": "c84011c1",
   "metadata": {},
   "outputs": [
    {
     "name": "stdout",
     "output_type": "stream",
     "text": [
      "[1 2 3]\n",
      "[4 5 6]\n"
     ]
    }
   ],
   "source": [
    "# 8.2  Iterating 2-D array\n",
    "\n",
    "arr = np.array([[1, 2, 3], [4, 5, 6]])\n",
    "\n",
    "for x in arr:  # iterates over rows & not elements\n",
    "    print(x)\n",
    "\n",
    "#  the loop for x in arr iterates over the rows of the 2D NumPy array arr\n",
    "#   In each iteration, x represents a row of the array, so when you print x, you see the entire row as an array.    "
   ]
  },
  {
   "cell_type": "code",
   "execution_count": 327,
   "id": "9497d278",
   "metadata": {},
   "outputs": [
    {
     "name": "stdout",
     "output_type": "stream",
     "text": [
      "1\n",
      "2\n",
      "3\n",
      "4\n",
      "5\n",
      "6\n"
     ]
    }
   ],
   "source": [
    "# the above program iterates each row of the 2D array\n",
    "\n",
    "# To iterate over each element one by one,\n",
    "\n",
    "arr = np.array([[1, 2, 3], [4, 5, 6]])\n",
    "\n",
    "for x in arr:     # iterates over rows \n",
    "    for y in x:   # iterates over elements in each row\n",
    "        print(y)\n",
    "        "
   ]
  },
  {
   "cell_type": "code",
   "execution_count": 328,
   "id": "8a1d4d02",
   "metadata": {},
   "outputs": [
    {
     "name": "stdout",
     "output_type": "stream",
     "text": [
      "[[1 2 3]\n",
      " [4 5 6]]\n",
      "[[ 7  8  9]\n",
      " [10 11 12]]\n"
     ]
    }
   ],
   "source": [
    "# 8.3  Iterating 3-D array\n",
    "\n",
    "arr = np.array([[[1, 2, 3],[4, 5, 6]], [[7, 8, 9],[10, 11, 12]]])\n",
    "\n",
    "for x in arr:\n",
    "    print(x)\n"
   ]
  },
  {
   "cell_type": "code",
   "execution_count": 329,
   "id": "816a600f",
   "metadata": {},
   "outputs": [
    {
     "name": "stdout",
     "output_type": "stream",
     "text": [
      "1\n",
      "2\n",
      "3\n",
      "4\n",
      "5\n",
      "6\n",
      "7\n",
      "8\n",
      "9\n",
      "10\n",
      "11\n",
      "12\n"
     ]
    }
   ],
   "source": [
    "# the above program iterates each row\n",
    "\n",
    "# To return the actual values, the scalars, we have to iterate the arrays in each dimension.\n",
    "# iterating over each element one by one,\n",
    "\n",
    "arr = np.array([[[1, 2, 3],[4, 5, 6]], [[7, 8, 9],[10, 11, 12]]])\n",
    "\n",
    "for x in arr:\n",
    "    for y in x:\n",
    "        for z in y:\n",
    "            print(z)\n"
   ]
  },
  {
   "cell_type": "code",
   "execution_count": 330,
   "id": "1413ede1",
   "metadata": {},
   "outputs": [
    {
     "name": "stdout",
     "output_type": "stream",
     "text": [
      "1\n",
      "2\n",
      "3\n",
      "4\n",
      "5\n",
      "6\n",
      "7\n",
      "8\n",
      "9\n",
      "10\n",
      "11\n",
      "12\n"
     ]
    }
   ],
   "source": [
    "# 8.4  Iterating Arrays on each element Using nditer()\n",
    "\n",
    "\n",
    "# Iterating on Each Scalar Element\n",
    "\n",
    "#  In basic for loops,iterating through each scalar of an array we need to use n for loops which can be difficult to write for arrays with very high dimensionality.\n",
    "\n",
    "#   The function nditer() is a helping function that can be used from very basic to very advanced iterations. It solves some basic issues which we face in iteration\n",
    "\n",
    "\n",
    "arr = np.array([[[1, 2, 3], [4, 5, 6]], [[7, 8, 9], [10, 11, 12]]])\n",
    "\n",
    "for x in np.nditer(arr):\n",
    "    print(x)\n"
   ]
  },
  {
   "cell_type": "code",
   "execution_count": 331,
   "id": "67474d75",
   "metadata": {},
   "outputs": [
    {
     "name": "stdout",
     "output_type": "stream",
     "text": [
      "1\n",
      "3\n",
      "4\n",
      "6\n"
     ]
    }
   ],
   "source": [
    "# 8.5  Iterating With Different Step Size using nditer()\n",
    "\n",
    "arr = np.array([[1, 2, 3], [4, 5, 6]])\n",
    "\n",
    "for x in np.nditer(arr[:, ::2]):\n",
    "    print(x)\n"
   ]
  },
  {
   "cell_type": "code",
   "execution_count": 332,
   "id": "99df206f",
   "metadata": {},
   "outputs": [
    {
     "name": "stdout",
     "output_type": "stream",
     "text": [
      "b'1'\n",
      "b'2'\n",
      "b'3'\n"
     ]
    }
   ],
   "source": [
    "# 8.6  Iterating Array With Different Data Types\n",
    "\n",
    "# We can use \" op_dtypes \" argument and pass it the expected datatype to change the datatype of elements while iterating.\n",
    "\n",
    "# NumPy does not change the data type of the element in-place (where the element is in array) so it needs some other space to perform this action, \n",
    "#  that extra space is called buffer, and in order to enable it in nditer() we pass \" flags=['buffered'] \"\n",
    "\n",
    "arr = np.array([1, 2, 3])\n",
    "\n",
    "for x in np.nditer(arr, flags=['buffered'], op_dtypes='S'):\n",
    "    print(x)\n"
   ]
  },
  {
   "cell_type": "code",
   "execution_count": 333,
   "id": "4810fe62",
   "metadata": {},
   "outputs": [],
   "source": [
    "# 8.7  Enumerated Iteration Using ndenumerate()\n",
    "\n",
    "# Enumeration means mentioning sequence number of somethings one by one.\n",
    "\n",
    "# Sometimes we require corresponding index of the element while iterating, the \" ndenumerate() \" method can be used for those usecases.\n"
   ]
  },
  {
   "cell_type": "code",
   "execution_count": 334,
   "id": "a88d377b",
   "metadata": {},
   "outputs": [
    {
     "name": "stdout",
     "output_type": "stream",
     "text": [
      "(0,) 1\n",
      "(1,) 2\n",
      "(2,) 3\n"
     ]
    }
   ],
   "source": [
    "#  Enumerating 1D arrays elements using ndenumerate()\n",
    "\n",
    "arr = np.array([1, 2, 3])\n",
    "\n",
    "for index, x in np.ndenumerate(arr):\n",
    "    print(index, x)\n"
   ]
  },
  {
   "cell_type": "code",
   "execution_count": 335,
   "id": "c47764b8",
   "metadata": {},
   "outputs": [
    {
     "name": "stdout",
     "output_type": "stream",
     "text": [
      "(0, 0) 1\n",
      "(0, 1) 2\n",
      "(0, 2) 3\n",
      "(1, 0) 4\n",
      "(1, 1) 5\n",
      "(1, 2) 6\n"
     ]
    }
   ],
   "source": [
    "#  Enumerating 2D arrays elements using ndenumerate()\n",
    "\n",
    "arr = np.array([[1 ,2, 3], [4, 5, 6]])\n",
    "\n",
    "for index, x in np.ndenumerate(arr):\n",
    "    print(index, x)"
   ]
  },
  {
   "cell_type": "code",
   "execution_count": null,
   "id": "0d827230",
   "metadata": {},
   "outputs": [],
   "source": [
    "\n",
    "\n",
    "\n"
   ]
  },
  {
   "cell_type": "code",
   "execution_count": 336,
   "id": "a4ad88df",
   "metadata": {},
   "outputs": [],
   "source": [
    "# 9  Joining NumPy Arrays\n",
    "\n",
    "# Joining means putting contents of two or more arrays in a single array.\n",
    "\n",
    "#  In SQL we join tables based on a key, whereas in NumPy we join arrays by axes.\n",
    "\n",
    "#   We pass a sequence of arrays that we want to join to the concatenate() function, along with the axis.\n",
    "#    If axis is not explicitly passed, it is taken as 0."
   ]
  },
  {
   "cell_type": "code",
   "execution_count": 337,
   "id": "bdaf1b05",
   "metadata": {},
   "outputs": [
    {
     "name": "stdout",
     "output_type": "stream",
     "text": [
      "[1 2 3 4 5 6]\n",
      "\n",
      "[4 5 6 1 2 3]\n"
     ]
    }
   ],
   "source": [
    "# 9.1  Joining two 1D arrays using concatenate()\n",
    "\n",
    "arr1 = np.array([1,2,3]) \n",
    "arr2 = np.array([4,5,6])\n",
    "\n",
    "arr3 = np.concatenate((arr1, arr2))\n",
    "print(arr3)\n",
    "print()\n",
    "\n",
    "arr4 = np.concatenate((arr2, arr1))\n",
    "print(arr4)\n"
   ]
  },
  {
   "cell_type": "code",
   "execution_count": 338,
   "id": "99b85a77",
   "metadata": {},
   "outputs": [
    {
     "name": "stdout",
     "output_type": "stream",
     "text": [
      "[[ 1  2  3  8  9 10]\n",
      " [ 4  5  6 11 12 13]]\n"
     ]
    }
   ],
   "source": [
    "# 9.2  Joining two 2D arrays using concatenate()\n",
    "\n",
    "arr1 = np.array([[1, 2, 3], [4, 5, 6]])\n",
    "arr2 = np.array([[8, 9, 10], [11, 12, 13]])\n",
    "\n",
    "arr3 = np.concatenate((arr1, arr2), axis=1)  # Horizontal Concatenation\n",
    "print(arr3)\n",
    "\n",
    "# axis=0 means Vertical Concatenation --  rows are stacked on top of each other\n",
    "# axis=1 means Horizontal Concatenation -- columns are appended side by side"
   ]
  },
  {
   "cell_type": "code",
   "execution_count": 339,
   "id": "e8775991",
   "metadata": {},
   "outputs": [
    {
     "name": "stdout",
     "output_type": "stream",
     "text": [
      "[[ 1  2  3]\n",
      " [ 4  5  6]\n",
      " [ 8  9 10]\n",
      " [11 12 13]]\n"
     ]
    }
   ],
   "source": [
    "arr1 = np.array([[1, 2, 3], [4, 5, 6]])\n",
    "arr2 = np.array([[8, 9, 10], [11, 12, 13]])\n",
    "\n",
    "arr3 = np.concatenate((arr1, arr2), axis=0)  # Vertical Concatenation\n",
    "print(arr3)\n"
   ]
  },
  {
   "cell_type": "code",
   "execution_count": 340,
   "id": "9cdf4270",
   "metadata": {},
   "outputs": [],
   "source": [
    "# The key difference between axis=0 and axis=1 is the direction of concatenation:\n",
    "\n",
    "#  axis=0 (Vertical Concatenation):\n",
    "\n",
    "#  Concatenating along axis=0 means stacking arrays vertically, i.e., rows are stacked on top of each other.\n",
    "#   If you are concatenating 2D arrays, it will add rows, extending the number of rows in the resulting array.\n",
    "#    For higher-dimensional arrays, it means stacking along the first axis, which is typically the rows in 2D arrays.\n",
    "\n",
    "\n",
    "#  axis=1 (Horizontal Concatenation):\n",
    "\n",
    "#  Concatenating along axis=1 means stacking arrays horizontally, i.e., columns are appended side by side.\n",
    "#   If you are concatenating 2D arrays, it will add columns, extending the number of columns in the resulting array.\n",
    "#    For higher-dimensional arrays, it means stacking along the second axis, which is typically the columns in 2D arrays.\n"
   ]
  },
  {
   "cell_type": "code",
   "execution_count": null,
   "id": "a144f728",
   "metadata": {},
   "outputs": [],
   "source": [
    "\n"
   ]
  },
  {
   "cell_type": "code",
   "execution_count": 341,
   "id": "4bbe3796",
   "metadata": {},
   "outputs": [
    {
     "name": "stdout",
     "output_type": "stream",
     "text": [
      "[[ 1  2  3]\n",
      " [ 8  9 10]]\n",
      "\n",
      "[ 1  2  3  8  9 10]\n"
     ]
    }
   ],
   "source": [
    "# 9.3  Joining Arrays Using Stack Functions i.e. np.stack\n",
    "\n",
    "# Stacking is same as concatenation, the only difference is that stacking creates a new axis and then joining arrays along that new axis\n",
    "\n",
    "# np.concatenate: Combines arrays along an existing axis without creating new dimensions.\n",
    "# np.stack: Combines arrays along a new axis, creating an additional dimension.\n",
    "\n",
    "\n",
    "arr1 = np.array([1, 2, 3])\n",
    "arr2 = np.array([8, 9, 10])\n",
    "\n",
    "\n",
    "arr3 = np.stack((arr1, arr2), axis=0)\n",
    "print(arr3)\n",
    "print()\n",
    "\n",
    "\n",
    "arr4 = np.concatenate((arr1, arr2), axis=0)\n",
    "print(arr4)\n",
    "\n",
    "# arr3 has 2D, wheras arr4 has 1D"
   ]
  },
  {
   "cell_type": "code",
   "execution_count": 342,
   "id": "44b861f9",
   "metadata": {},
   "outputs": [
    {
     "name": "stdout",
     "output_type": "stream",
     "text": [
      "[[ 1  8]\n",
      " [ 2  9]\n",
      " [ 3 10]]\n",
      "\n"
     ]
    }
   ],
   "source": [
    "arr1 = np.array([1, 2, 3])\n",
    "arr2 = np.array([8, 9, 10])\n",
    "\n",
    "\n",
    "arr3 = np.stack((arr1, arr2), axis=1)\n",
    "print(arr3)\n",
    "print()\n",
    "\n",
    "\n",
    "# arr4 = np.concatenate((arr1, arr2), axis=1)\n",
    "# print(arr4)\n",
    "\n",
    "# arr3 has 2D, wheras arr4 is not possible, need 2D arrays to concatenate horizontally"
   ]
  },
  {
   "cell_type": "code",
   "execution_count": 343,
   "id": "53569f9d",
   "metadata": {},
   "outputs": [
    {
     "name": "stdout",
     "output_type": "stream",
     "text": [
      "[ 1  2  3  8  9 10]\n"
     ]
    }
   ],
   "source": [
    "# 9.4  Stacking Along Rows using hstack()\n",
    "\n",
    "arr1 = np.array([1, 2, 3])\n",
    "arr2 = np.array([8, 9, 10])\n",
    "\n",
    "arr3 = np.hstack((arr1, arr2))\n",
    "print(arr3)\n",
    "\n",
    "# looks all in one line"
   ]
  },
  {
   "cell_type": "code",
   "execution_count": 344,
   "id": "e6c61481",
   "metadata": {},
   "outputs": [
    {
     "name": "stdout",
     "output_type": "stream",
     "text": [
      "[[ 8  9 10]\n",
      " [ 1  2  3]]\n"
     ]
    }
   ],
   "source": [
    "# 9.5  Stacking Along Columns using vstack()\n",
    "\n",
    "arr1 = np.array([1, 2, 3])\n",
    "arr2 = np.array([8, 9, 10])\n",
    "\n",
    "arr3 = np.vstack((arr2, arr1))\n",
    "print(arr3)\n",
    "\n",
    "# looks one upon one"
   ]
  },
  {
   "cell_type": "code",
   "execution_count": 345,
   "id": "90a42919",
   "metadata": {},
   "outputs": [
    {
     "name": "stdout",
     "output_type": "stream",
     "text": [
      "[[[ 1  8]\n",
      "  [ 2  9]\n",
      "  [ 3 10]]]\n"
     ]
    }
   ],
   "source": [
    "# 9.6  Stacking Along Height (depth) using dstack()\n",
    "\n",
    "arr1 = np.array([1, 2, 3])\n",
    "arr2 = np.array([8, 9, 10])\n",
    "\n",
    "arr3 = np.dstack((arr1, arr2))\n",
    "print(arr3)\n",
    "\n",
    "# looks side by side, similar to hstack() but not all in one line"
   ]
  },
  {
   "cell_type": "code",
   "execution_count": 346,
   "id": "32541f72",
   "metadata": {},
   "outputs": [],
   "source": [
    "# summary of JOIN\n",
    "\n",
    "# two ways to join,\n",
    "#  1. Concatenate\n",
    "#  2. stack\n",
    "\n",
    "\n",
    "# In .concatenate(),\n",
    "#  1.1 -- axis=0 means Vertical Concatenation - rows are stacked on top of each other\n",
    "#  1.2 -- axis=1 means Horizontal Concatenation - columns are appended side by side\n",
    "\n",
    "\n",
    "# In .stack(),\n",
    "#  2.1 -- hstack() - Stacking Along Rows\n",
    "#  2.2 -- vstack() - Stacking Along Columns\n",
    "#  2.3 -- dstack() - Stacking Along Height (depth)\n",
    "\n",
    "# note that hstack() & dstack() are similar with one difference,\n",
    "#   in hstack() -- stacked next to one another in a single line/row\n",
    "#   in dstack() -- stacked next to one another in multiple lines/rows"
   ]
  },
  {
   "cell_type": "code",
   "execution_count": null,
   "id": "a52e6999",
   "metadata": {},
   "outputs": [],
   "source": [
    "\n",
    "\n",
    "\n"
   ]
  },
  {
   "cell_type": "code",
   "execution_count": 347,
   "id": "b7220f56",
   "metadata": {},
   "outputs": [],
   "source": [
    "# 10  Splitting NumPy Arrays\n",
    "\n",
    "#  Splitting breaks one array into multiple whereas Joining merges multiple arrays into one\n",
    "\n",
    "#  array_split() is used for splitting arrays\n",
    "#   pass the array that need to be split and the number of splits.\n"
   ]
  },
  {
   "cell_type": "code",
   "execution_count": 348,
   "id": "2c1c224c",
   "metadata": {},
   "outputs": [
    {
     "name": "stdout",
     "output_type": "stream",
     "text": [
      "[array([1, 2]), array([3, 4]), array([5, 6])]\n"
     ]
    }
   ],
   "source": [
    "# 10.1  Splitting the array in 3 parts using array_split()\n",
    "\n",
    "arr = np.array([1, 2, 3, 4, 5, 6])\n",
    "\n",
    "arr1 = np.array_split(arr, 3)\n",
    "\n",
    "print(arr1)\n",
    "\n",
    "# The return value is a list containing three arrays."
   ]
  },
  {
   "cell_type": "code",
   "execution_count": 349,
   "id": "a3c0d1eb",
   "metadata": {},
   "outputs": [
    {
     "name": "stdout",
     "output_type": "stream",
     "text": [
      "[array([1, 2]), array([3, 4]), array([5]), array([6])]\n"
     ]
    }
   ],
   "source": [
    "#  If the array has less elements than required, it will adjust from the end accordingly.\n",
    "\n",
    "arr = np.array([1, 2, 3, 4, 5, 6])\n",
    "\n",
    "arr1 = np.array_split(arr, 4)\n",
    "\n",
    "print(arr1)"
   ]
  },
  {
   "cell_type": "code",
   "execution_count": 350,
   "id": "68f156ac",
   "metadata": {},
   "outputs": [
    {
     "name": "stdout",
     "output_type": "stream",
     "text": [
      "[array([1, 2]), array([3, 4]), array([5])]\n"
     ]
    }
   ],
   "source": [
    "arr = np.array([1, 2, 3, 4, 5])\n",
    "\n",
    "arr1 = np.array_split(arr, 3)\n",
    "\n",
    "print(arr1)\n",
    "\n",
    "# Note: We also have the method split() available but it will not adjust the elements when elements are less in source array for splitting\n",
    "#  like in example above, array_split() worked properly but split() would fail."
   ]
  },
  {
   "cell_type": "code",
   "execution_count": 351,
   "id": "69869709",
   "metadata": {},
   "outputs": [
    {
     "name": "stdout",
     "output_type": "stream",
     "text": [
      "[array([1, 2]), array([3, 4]), array([5, 6])]\n",
      "\n",
      "[1 2]\n",
      "[3 4]\n",
      "[5 6]\n"
     ]
    }
   ],
   "source": [
    "# 10.2  Accessing the splitted arrays\n",
    "\n",
    "# The return value of the array_split() method is an array containing each of the split as an array.\n",
    "\n",
    "# If you split an array into 3 arrays, you can access them from the result just like any array element\n",
    "\n",
    "arr = np.array([1, 2, 3, 4, 5, 6])\n",
    "\n",
    "arr1 = np.array_split(arr, 3)\n",
    "\n",
    "print(arr1)\n",
    "print()\n",
    "\n",
    "print(arr1[0])\n",
    "print(arr1[1])\n",
    "print(arr1[2])"
   ]
  },
  {
   "cell_type": "code",
   "execution_count": 352,
   "id": "cae64300",
   "metadata": {},
   "outputs": [
    {
     "name": "stdout",
     "output_type": "stream",
     "text": [
      "[[ 1  2]\n",
      " [ 3  4]\n",
      " [ 5  6]\n",
      " [ 7  8]\n",
      " [ 9 10]\n",
      " [11 12]]\n",
      "\n",
      "[array([[1, 2],\n",
      "       [3, 4]]), array([[5, 6],\n",
      "       [7, 8]]), array([[ 9, 10],\n",
      "       [11, 12]])]\n",
      "\n",
      "[[1 2]\n",
      " [3 4]]\n",
      "\n",
      "[[ 9 10]\n",
      " [11 12]]\n"
     ]
    }
   ],
   "source": [
    "# 10.3  Splitting 2-D arrays\n",
    "\n",
    "# Splitting the 2-D array into three 2-D arrays\n",
    "\n",
    "arr = np.array([[1, 2], [3, 4], [5, 6], [7, 8], [9, 10], [11, 12]])\n",
    "\n",
    "arr1 = np.array_split(arr, 3)\n",
    "\n",
    "print(arr)\n",
    "print()\n",
    "\n",
    "print(arr1)\n",
    "print()\n",
    "\n",
    "print(arr1[0])\n",
    "print()\n",
    "print(arr1[2])\n",
    "\n",
    "# returns three 2-D array"
   ]
  },
  {
   "cell_type": "code",
   "execution_count": 353,
   "id": "07859c33",
   "metadata": {},
   "outputs": [
    {
     "name": "stdout",
     "output_type": "stream",
     "text": [
      "[[ 1  2]\n",
      " [ 3  4]\n",
      " [ 5  6]\n",
      " [ 7  8]\n",
      " [ 9 10]\n",
      " [11 12]]\n",
      "\n",
      "[array([[ 1],\n",
      "       [ 3],\n",
      "       [ 5],\n",
      "       [ 7],\n",
      "       [ 9],\n",
      "       [11]]), array([[ 2],\n",
      "       [ 4],\n",
      "       [ 6],\n",
      "       [ 8],\n",
      "       [10],\n",
      "       [12]]), array([], shape=(6, 0), dtype=int32)]\n",
      "\n",
      "[[ 1]\n",
      " [ 3]\n",
      " [ 5]\n",
      " [ 7]\n",
      " [ 9]\n",
      " [11]]\n",
      "\n",
      "[[ 2]\n",
      " [ 4]\n",
      " [ 6]\n",
      " [ 8]\n",
      " [10]\n",
      " [12]]\n"
     ]
    }
   ],
   "source": [
    "# 10.4  Splitting along the row (axis=1)\n",
    "\n",
    "arr = np.array([[1, 2], [3, 4], [5, 6], [7, 8], [9, 10], [11, 12]])\n",
    "\n",
    "arr1 = np.array_split(arr, 3, axis=1)\n",
    "\n",
    "print(arr)\n",
    "print()\n",
    "\n",
    "print(arr1)\n",
    "print()\n",
    "\n",
    "print(arr1[0])\n",
    "print()\n",
    "print(arr1[1])"
   ]
  },
  {
   "cell_type": "code",
   "execution_count": 354,
   "id": "8b2b9cd7",
   "metadata": {},
   "outputs": [
    {
     "name": "stdout",
     "output_type": "stream",
     "text": [
      "[array([[ 1],\n",
      "       [ 4],\n",
      "       [ 7],\n",
      "       [10],\n",
      "       [13],\n",
      "       [16]]), array([[ 2],\n",
      "       [ 5],\n",
      "       [ 8],\n",
      "       [11],\n",
      "       [14],\n",
      "       [17]]), array([[ 3],\n",
      "       [ 6],\n",
      "       [ 9],\n",
      "       [12],\n",
      "       [15],\n",
      "       [18]])]\n",
      "\n",
      "[[ 1]\n",
      " [ 4]\n",
      " [ 7]\n",
      " [10]\n",
      " [13]\n",
      " [16]]\n",
      "\n",
      "[[ 2]\n",
      " [ 5]\n",
      " [ 8]\n",
      " [11]\n",
      " [14]\n",
      " [17]]\n",
      "\n",
      "[[ 3]\n",
      " [ 6]\n",
      " [ 9]\n",
      " [12]\n",
      " [15]\n",
      " [18]]\n"
     ]
    }
   ],
   "source": [
    "# 10.5  Using hsplit()\n",
    "\n",
    "# arr = np.array([[1, 2], [3, 4], [5, 6], [7, 8], [9, 10], [11, 12]])\n",
    "# arr1 = np.hsplit(arr, 3)\n",
    "# print(arr1)\n",
    "\n",
    "arr = np.array([[1, 2, 3], [4, 5, 6], [7, 8, 9], [10, 11, 12], [13, 14, 15], [16, 17, 18]])\n",
    "\n",
    "arr1 = np.hsplit(arr, 3)\n",
    "\n",
    "print(arr1)\n",
    "print()\n",
    "\n",
    "# to understand better,\n",
    "print(arr1[0])\n",
    "print()\n",
    "print(arr1[1])\n",
    "print()\n",
    "print(arr1[2])"
   ]
  },
  {
   "cell_type": "code",
   "execution_count": 355,
   "id": "d3cd6241",
   "metadata": {},
   "outputs": [],
   "source": [
    "# Note: Similar alternates to vstack() and dstack() are available as vsplit() and dsplit().\n"
   ]
  },
  {
   "cell_type": "code",
   "execution_count": null,
   "id": "62f2fe77",
   "metadata": {},
   "outputs": [],
   "source": [
    "\n",
    "\n",
    "\n"
   ]
  },
  {
   "cell_type": "code",
   "execution_count": 356,
   "id": "84f8661f",
   "metadata": {},
   "outputs": [
    {
     "name": "stdout",
     "output_type": "stream",
     "text": [
      "(array([2], dtype=int64),)\n"
     ]
    }
   ],
   "source": [
    "# 11  Searching Arrays\n",
    "\n",
    "# You can search an array for a certain value, and return the indexes that get a match.\n",
    "\n",
    "# Searching an array using the where() method\n",
    "\n",
    "arr = np.array([1, 2, 3, 4, 5])\n",
    "\n",
    "arr1 = np.where(arr == 3)\n",
    "\n",
    "print(arr1)"
   ]
  },
  {
   "cell_type": "code",
   "execution_count": 357,
   "id": "08c535e0",
   "metadata": {},
   "outputs": [
    {
     "name": "stdout",
     "output_type": "stream",
     "text": [
      "(array([0, 3, 6], dtype=int64),)\n"
     ]
    }
   ],
   "source": [
    "# 11.1\n",
    "\n",
    "arr = np.array([3, 1, 2, 3, 7, 5, 3, 8])\n",
    "\n",
    "arr1 = np.where(arr == 3)\n",
    "\n",
    "print(arr1)\n",
    "\n",
    "# means that the value 3 is present at index 0, 3 and 6."
   ]
  },
  {
   "cell_type": "code",
   "execution_count": 358,
   "id": "a835e6d3",
   "metadata": {},
   "outputs": [
    {
     "name": "stdout",
     "output_type": "stream",
     "text": [
      "(array([1, 3, 5, 7], dtype=int64),)\n"
     ]
    }
   ],
   "source": [
    "#  Find the indexes where the values are even\n",
    "\n",
    "arr = np.array([1, 2, 3, 4, 5, 6, 7, 8])\n",
    "\n",
    "arr1 = np.where(arr%2 == 0)\n",
    "\n",
    "print(arr1)\n",
    "\n",
    "# will show index values of the answers"
   ]
  },
  {
   "cell_type": "code",
   "execution_count": 359,
   "id": "6ea2f0e1",
   "metadata": {},
   "outputs": [
    {
     "name": "stdout",
     "output_type": "stream",
     "text": [
      "(array([0, 2, 4, 6], dtype=int64),)\n"
     ]
    }
   ],
   "source": [
    "#  Find the indexes where the values are odd:\n",
    "\n",
    "arr = np.array([1, 2, 3, 4, 5, 6, 7, 8])\n",
    "\n",
    "arr1 = np.where(arr%2 != 0)\n",
    "\n",
    "print(arr1)\n",
    "\n",
    "# will show index values of the answers"
   ]
  },
  {
   "cell_type": "code",
   "execution_count": 360,
   "id": "e0b8be18",
   "metadata": {},
   "outputs": [
    {
     "name": "stdout",
     "output_type": "stream",
     "text": [
      "1\n"
     ]
    }
   ],
   "source": [
    "# 11.2  Search Sorted using searchsorted()\n",
    "\n",
    "# There is a method called searchsorted() which performs a binary search in the array,\n",
    "#  and returns the index where the specified value would be inserted to maintain the search order.\n",
    "\n",
    "# The searchsorted() method is assumed to be used on sorted arrays.\n",
    "\n",
    "arr = np.array([6, 7, 8, 9])\n",
    "\n",
    "arr1 = np.searchsorted(arr, 7)\n",
    "\n",
    "print(arr1)\n",
    "\n",
    "# The method starts the search from the left and returns the first index where the number 7 is no longer larger than the next value.\n",
    "#  The number 7 should be inserted on index 1 to remain the sort order."
   ]
  },
  {
   "cell_type": "code",
   "execution_count": 362,
   "id": "94a73ffc",
   "metadata": {},
   "outputs": [
    {
     "name": "stdout",
     "output_type": "stream",
     "text": [
      "4\n"
     ]
    }
   ],
   "source": [
    "arr = np.array([6, 77, 8, 9])\n",
    "\n",
    "arr1 = np.searchsorted(arr, 77)\n",
    "\n",
    "print(arr1)\n",
    "\n",
    "# The method starts the search from the left and returns the index where the specified value would be inserted to maintain the search order.\n",
    "\n",
    "# index starts at 0 so output should be 3 but why is it showing 4 ?\n",
    "#   because it considers all the 4 values including 77 itself, then shows it should be placed at last which is index 4"
   ]
  },
  {
   "cell_type": "code",
   "execution_count": 364,
   "id": "1b0f3d3c",
   "metadata": {},
   "outputs": [
    {
     "name": "stdout",
     "output_type": "stream",
     "text": [
      "7\n"
     ]
    }
   ],
   "source": [
    "arr = np.array([5, 25, 6, 7, 8, 9, 10])\n",
    "\n",
    "arr1 = np.searchsorted(arr, 25)\n",
    "\n",
    "print(arr1)\n",
    "\n",
    "# The method starts the search from the left and returns the index where the specified value would be inserted to maintain the search order.\n",
    "\n",
    "# index starts at 0 so output should be 6 but why is it showing 7 ?\n",
    "#   because it considers all the 7 values including 25 itself, then shows it should be placed at last which is index 7"
   ]
  },
  {
   "cell_type": "code",
   "execution_count": 365,
   "id": "6d0c97c3",
   "metadata": {},
   "outputs": [
    {
     "name": "stdout",
     "output_type": "stream",
     "text": [
      "2\n"
     ]
    }
   ],
   "source": [
    "# 11.3  Search From the Right Side\n",
    "\n",
    "# By default the left most index is returned, but we can give side='right' to return the right most index instead.\n",
    "\n",
    "# Finding the indexes where the value 7 should be inserted, starting from the right:\n",
    "\n",
    "arr = np.array([6, 7, 8, 9])\n",
    "\n",
    "arr1 = np.searchsorted(arr, 7, side='right')\n",
    "\n",
    "print(arr1)\n",
    "\n",
    "# The number 7 should be inserted on index 2 to remain the sort order.\n",
    "\n",
    "# The method starts the search from the right and returns the first index where the number 7 is no longer less than the next value."
   ]
  },
  {
   "cell_type": "code",
   "execution_count": 366,
   "id": "5fc8323b",
   "metadata": {},
   "outputs": [
    {
     "name": "stdout",
     "output_type": "stream",
     "text": [
      "9\n"
     ]
    }
   ],
   "source": [
    "arr = np.array([ 6, 7, 8, 9, 1, 2, 3, 4, 5])\n",
    "\n",
    "arr1 = np.searchsorted(arr, 7, side='right')\n",
    "\n",
    "print(arr1)"
   ]
  },
  {
   "cell_type": "code",
   "execution_count": 367,
   "id": "35d9e722",
   "metadata": {},
   "outputs": [
    {
     "name": "stdout",
     "output_type": "stream",
     "text": [
      "[1 2 3]\n"
     ]
    }
   ],
   "source": [
    "# 11.4  Multiple Values\n",
    "\n",
    "# To search for more than one value, use an array with the specified values.\n",
    "\n",
    "arr = np.array([1, 3, 5, 7])\n",
    "\n",
    "arr1 = np.searchsorted(arr, [2, 4, 6])\n",
    "\n",
    "print(arr1)\n",
    "\n",
    "# The return value is an array: [1 2 3] containing the three indexes where 2, 4, 6 would be inserted in the original array to maintain the order.\n"
   ]
  },
  {
   "cell_type": "code",
   "execution_count": 368,
   "id": "c9ad4614",
   "metadata": {},
   "outputs": [
    {
     "name": "stdout",
     "output_type": "stream",
     "text": [
      "[9 9 0]\n"
     ]
    }
   ],
   "source": [
    "arr = np.array([ 6, 7, 8, 9, 1, 2, 3, 4, 5])\n",
    "\n",
    "arr1 = np.searchsorted(arr, [8, 9 ,1])\n",
    "\n",
    "print(arr1)\n"
   ]
  },
  {
   "cell_type": "code",
   "execution_count": 369,
   "id": "c7bf1590",
   "metadata": {},
   "outputs": [],
   "source": [
    "#  searchsorted() summary\n",
    "\n",
    "#  it searches the whole array & returns the index where the specified value should be placed\n",
    "#   when returning the index it consideres the current value position without neglecting it,\n",
    "#     i.e.   5, 7, 8, 1, 3, 9  in it searchsort 5,  so now it'll include 5 also while mentioning the index in the return\n",
    "#         op: 5\n"
   ]
  },
  {
   "cell_type": "code",
   "execution_count": null,
   "id": "00dc8e69",
   "metadata": {},
   "outputs": [],
   "source": [
    "\n",
    "\n",
    "\n"
   ]
  },
  {
   "cell_type": "code",
   "execution_count": 370,
   "id": "afdbda5a",
   "metadata": {},
   "outputs": [],
   "source": [
    "# 12  Sorting Arrays\n",
    "\n",
    "# Sorting is ordering the sequence\n",
    "\n",
    "# A Sequence can be ordered by arranging numerics or alphabets in ascending or descending order\n",
    "\n",
    "# sort() is used to sort the array\n"
   ]
  },
  {
   "cell_type": "code",
   "execution_count": 371,
   "id": "3fe9c44d",
   "metadata": {},
   "outputs": [
    {
     "name": "stdout",
     "output_type": "stream",
     "text": [
      "[1 2 3 5]\n",
      "\n",
      "[3 5 2 1]\n"
     ]
    }
   ],
   "source": [
    "# 12.1  Sorting the array containing numerics\n",
    "\n",
    "arr = np.array([3, 5, 2, 1])\n",
    "\n",
    "print(np.sort(arr)) # This method returns a copy of the array, leaving the original array unchanged.\n",
    "print()\n",
    "\n",
    "print(arr) # original is unaffected"
   ]
  },
  {
   "cell_type": "code",
   "execution_count": 372,
   "id": "f57fa53b",
   "metadata": {},
   "outputs": [
    {
     "name": "stdout",
     "output_type": "stream",
     "text": [
      "['aaa' 'bbb' 'ddd' 'eee']\n"
     ]
    }
   ],
   "source": [
    "# 12.2  Sorting the array containing alphabets\n",
    "\n",
    "arr = np.array(['bbb', 'ddd', 'eee', 'aaa'])\n",
    "\n",
    "print(np.sort(arr))"
   ]
  },
  {
   "cell_type": "code",
   "execution_count": 373,
   "id": "c9e3b682",
   "metadata": {},
   "outputs": [
    {
     "name": "stdout",
     "output_type": "stream",
     "text": [
      "[False False False  True  True  True]\n"
     ]
    }
   ],
   "source": [
    "# 12.3  Sorting the array containing boolean\n",
    "\n",
    "arr = np.array([False, True, False, False, True, True])\n",
    "\n",
    "print(np.sort(arr))"
   ]
  },
  {
   "cell_type": "code",
   "execution_count": 374,
   "id": "db767f16",
   "metadata": {},
   "outputs": [
    {
     "name": "stdout",
     "output_type": "stream",
     "text": [
      "[[5 7 9]\n",
      " [3 6 7]]\n"
     ]
    }
   ],
   "source": [
    "# 12.4  Sorting a 2-D Array\n",
    "\n",
    "# If you use the sort() method on a 2-D array, both arrays will be sorted:\n",
    "\n",
    "arr = np.array([[9, 5, 7], [3, 7, 6]])\n",
    "\n",
    "print(np.sort(arr))"
   ]
  },
  {
   "cell_type": "code",
   "execution_count": null,
   "id": "6227cde4",
   "metadata": {},
   "outputs": [],
   "source": [
    "\n",
    "\n",
    "\n"
   ]
  },
  {
   "cell_type": "code",
   "execution_count": 375,
   "id": "98776e92",
   "metadata": {},
   "outputs": [],
   "source": [
    "# 13  Filtering Arrays\n"
   ]
  },
  {
   "cell_type": "code",
   "execution_count": null,
   "id": "9a3ac57b",
   "metadata": {},
   "outputs": [],
   "source": []
  }
 ],
 "metadata": {
  "kernelspec": {
   "display_name": "Python 3 (ipykernel)",
   "language": "python",
   "name": "python3"
  },
  "language_info": {
   "codemirror_mode": {
    "name": "ipython",
    "version": 3
   },
   "file_extension": ".py",
   "mimetype": "text/x-python",
   "name": "python",
   "nbconvert_exporter": "python",
   "pygments_lexer": "ipython3",
   "version": "3.10.9"
  }
 },
 "nbformat": 4,
 "nbformat_minor": 5
}
